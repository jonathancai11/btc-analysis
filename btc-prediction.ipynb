{
 "cells": [
  {
   "cell_type": "markdown",
   "metadata": {},
   "source": [
    "12/17/18\n",
    "BTC Prediction"
   ]
  },
  {
   "cell_type": "code",
   "execution_count": 1,
   "metadata": {},
   "outputs": [],
   "source": [
    "import requests\n",
    "import io\n",
    "import os\n",
    "import math\n",
    "\n",
    "import pandas as pd\n",
    "import matplotlib.pyplot as plt\n",
    "import numpy as np\n",
    "from sklearn.model_selection import train_test_split\n",
    "from sklearn.linear_model import LinearRegression\n",
    "\n",
    "from IPython.display import display"
   ]
  },
  {
   "cell_type": "code",
   "execution_count": 2,
   "metadata": {},
   "outputs": [],
   "source": [
    "# 1Token's API address\n",
    "tokenapi = 'http://hist-quote.1tokentrade.cn'"
   ]
  },
  {
   "cell_type": "markdown",
   "metadata": {},
   "source": [
    "Run the following cell to extract token from `token.txt` in this same directory."
   ]
  },
  {
   "cell_type": "code",
   "execution_count": 3,
   "metadata": {},
   "outputs": [],
   "source": [
    "# Retrieve API token\n",
    "current_path = os.getcwd()\n",
    "with open(current_path + '/token.txt') as file:\n",
    "    ot_key = file.read().splitlines()[0]"
   ]
  },
  {
   "cell_type": "markdown",
   "metadata": {},
   "source": [
    "The following two cells are sample API calls, not used for our data."
   ]
  },
  {
   "cell_type": "code",
   "execution_count": 4,
   "metadata": {},
   "outputs": [],
   "source": [
    "# @hidden_cell\n",
    "# Query all contracts for a certain date\n",
    "params = {\n",
    "    'date' : '2018-02-02',\n",
    "}\n",
    "# r = requests.get(tokenapi + '/ticks/contracts', headers = {'ot-key' : ot_key}, params = params)\n",
    "# r.json()"
   ]
  },
  {
   "cell_type": "code",
   "execution_count": 5,
   "metadata": {},
   "outputs": [],
   "source": [
    "# Query a single price at date/contract\n",
    "params = {\n",
    "    'contract' : 'binance/btc.usdt',\n",
    "    'date' : '2018-02-02',\n",
    "}\n",
    "# r = requests.get(tokenapi + '/ticks/simple' , headers = {'ot-key' : ot_key}, params = params)\n",
    "# r"
   ]
  },
  {
   "cell_type": "markdown",
   "metadata": {},
   "source": [
    "Querying 1Token's \"candle\" data. \n",
    "Currently querying for the contract 'binance/btx.usdt'."
   ]
  },
  {
   "cell_type": "code",
   "execution_count": 6,
   "metadata": {},
   "outputs": [
    {
     "name": "stdout",
     "output_type": "stream",
     "text": [
      "Number of rows: 14400.0\n"
     ]
    },
    {
     "data": {
      "text/html": [
       "<div>\n",
       "<style scoped>\n",
       "    .dataframe tbody tr th:only-of-type {\n",
       "        vertical-align: middle;\n",
       "    }\n",
       "\n",
       "    .dataframe tbody tr th {\n",
       "        vertical-align: top;\n",
       "    }\n",
       "\n",
       "    .dataframe thead th {\n",
       "        text-align: right;\n",
       "    }\n",
       "</style>\n",
       "<table border=\"1\" class=\"dataframe\">\n",
       "  <thead>\n",
       "    <tr style=\"text-align: right;\">\n",
       "      <th></th>\n",
       "      <th>close</th>\n",
       "      <th>high</th>\n",
       "      <th>low</th>\n",
       "      <th>open</th>\n",
       "      <th>timestamp</th>\n",
       "      <th>volume</th>\n",
       "    </tr>\n",
       "  </thead>\n",
       "  <tbody>\n",
       "    <tr>\n",
       "      <th>0</th>\n",
       "      <td>3433.40</td>\n",
       "      <td>3436.78</td>\n",
       "      <td>3432.39</td>\n",
       "      <td>3434.01</td>\n",
       "      <td>1544486400</td>\n",
       "      <td>19.362386</td>\n",
       "    </tr>\n",
       "    <tr>\n",
       "      <th>1</th>\n",
       "      <td>3425.85</td>\n",
       "      <td>3435.26</td>\n",
       "      <td>3424.01</td>\n",
       "      <td>3433.62</td>\n",
       "      <td>1544486460</td>\n",
       "      <td>49.151693</td>\n",
       "    </tr>\n",
       "    <tr>\n",
       "      <th>2</th>\n",
       "      <td>3423.26</td>\n",
       "      <td>3431.02</td>\n",
       "      <td>3423.26</td>\n",
       "      <td>3428.00</td>\n",
       "      <td>1544486520</td>\n",
       "      <td>9.487126</td>\n",
       "    </tr>\n",
       "    <tr>\n",
       "      <th>3</th>\n",
       "      <td>3425.19</td>\n",
       "      <td>3427.95</td>\n",
       "      <td>3423.57</td>\n",
       "      <td>3424.52</td>\n",
       "      <td>1544486580</td>\n",
       "      <td>10.325669</td>\n",
       "    </tr>\n",
       "    <tr>\n",
       "      <th>4</th>\n",
       "      <td>3422.83</td>\n",
       "      <td>3426.81</td>\n",
       "      <td>3422.67</td>\n",
       "      <td>3425.20</td>\n",
       "      <td>1544486640</td>\n",
       "      <td>8.280380</td>\n",
       "    </tr>\n",
       "  </tbody>\n",
       "</table>\n",
       "</div>"
      ],
      "text/plain": [
       "     close     high      low     open   timestamp     volume\n",
       "0  3433.40  3436.78  3432.39  3434.01  1544486400  19.362386\n",
       "1  3425.85  3435.26  3424.01  3433.62  1544486460  49.151693\n",
       "2  3423.26  3431.02  3423.26  3428.00  1544486520   9.487126\n",
       "3  3425.19  3427.95  3423.57  3424.52  1544486580  10.325669\n",
       "4  3422.83  3426.81  3422.67  3425.20  1544486640   8.280380"
      ]
     },
     "execution_count": 6,
     "metadata": {},
     "output_type": "execute_result"
    }
   ],
   "source": [
    "# Query \"candlestick\" data\n",
    "params = {\n",
    "#     'since' : '2013-12-10',\n",
    "#     'since' : '2017-12-21',\n",
    "    'since' : '2018-12-11',\n",
    "    'until' : '2018-12-21',\n",
    "    'contract' : 'binance/btc.usdt',\n",
    "#     'duration' : '1d',\n",
    "    'duration' : '1m',\n",
    "    'format' : 'csv'\n",
    "}\n",
    "r = requests.get(tokenapi + '/candles' , headers = {'ot-key' : ot_key}, params = params, stream = True)\n",
    "\n",
    "# Write to local file\n",
    "df = pd.read_csv(io.StringIO(r.text))   \n",
    "df.to_csv(current_path + '/btc-historical-data.csv')\n",
    "print(\"Number of rows:\", df.size / 6)\n",
    "df.head()"
   ]
  },
  {
   "cell_type": "markdown",
   "metadata": {},
   "source": [
    "Following cell is just used to plot the current DataFrame:"
   ]
  },
  {
   "cell_type": "code",
   "execution_count": 7,
   "metadata": {},
   "outputs": [
    {
     "data": {
      "text/plain": [
       "<matplotlib.axes._subplots.AxesSubplot at 0x109bec358>"
      ]
     },
     "metadata": {},
     "output_type": "display_data"
    },
    {
     "data": {
      "image/png": "[encoded data removed]",
      "text/plain": [
       "<Figure size 432x288 with 1 Axes>"
      ]
     },
     "metadata": {
      "needs_background": "light"
     },
     "output_type": "display_data"
    }
   ],
   "source": [
    "# Plot opening price across entire set\n",
    "df_plot = df.drop(labels=['close', 'high', 'low', 'volume'], axis=1)\n",
    "earliest_timestamp = df_plot['timestamp'][0]\n",
    "# df_plot['timestamp'] = df_plot['timestamp'].apply(lambda x : (x - earliest_timestamp) / 60 / 60 / 24)\n",
    "df_plot['timestamp'] = df_plot['timestamp'].apply(lambda x : (x - earliest_timestamp))\n",
    "a = df_plot.plot(x = 'timestamp', y = 'open', \\\n",
    "                     title='Bitcoin opening price over time tick')\n",
    "a.set_ylabel(\"opening price (dollars)\")\n",
    "a.set_xlabel(\"time tick (seconds)\")\n",
    "display(a)"
   ]
  },
  {
   "cell_type": "markdown",
   "metadata": {},
   "source": [
    "We will reduce the features of our data down to \"close\", \"volume\", \"hl_pct\", \"pct_change\".  \n",
    "\"hl_pct\" will stand for high-low percentage - the percent change between the high and low of a given tick.  \n",
    "\"pct_change\" will stand for percent change - the percent change between open and close of a given tick.  \n",
    "I will be trying to predict the closing price `forecast_out` ticks away.\n",
    "<!--I will be trying to predict the pct_change for a given tick. Positive pct_change will mean a long, negative pct_change will mean a short. -->"
   ]
  },
  {
   "cell_type": "code",
   "execution_count": 8,
   "metadata": {},
   "outputs": [
    {
     "data": {
      "text/html": [
       "<div>\n",
       "<style scoped>\n",
       "    .dataframe tbody tr th:only-of-type {\n",
       "        vertical-align: middle;\n",
       "    }\n",
       "\n",
       "    .dataframe tbody tr th {\n",
       "        vertical-align: top;\n",
       "    }\n",
       "\n",
       "    .dataframe thead th {\n",
       "        text-align: right;\n",
       "    }\n",
       "</style>\n",
       "<table border=\"1\" class=\"dataframe\">\n",
       "  <thead>\n",
       "    <tr style=\"text-align: right;\">\n",
       "      <th></th>\n",
       "      <th>close</th>\n",
       "      <th>volume</th>\n",
       "      <th>hl_pct</th>\n",
       "      <th>pct_change</th>\n",
       "      <th>label</th>\n",
       "    </tr>\n",
       "  </thead>\n",
       "  <tbody>\n",
       "    <tr>\n",
       "      <th>0</th>\n",
       "      <td>3433.40</td>\n",
       "      <td>19.362386</td>\n",
       "      <td>0.127899</td>\n",
       "      <td>-0.017763</td>\n",
       "      <td>3422.29</td>\n",
       "    </tr>\n",
       "    <tr>\n",
       "      <th>1</th>\n",
       "      <td>3425.85</td>\n",
       "      <td>49.151693</td>\n",
       "      <td>0.328562</td>\n",
       "      <td>-0.226292</td>\n",
       "      <td>3422.97</td>\n",
       "    </tr>\n",
       "    <tr>\n",
       "      <th>2</th>\n",
       "      <td>3423.26</td>\n",
       "      <td>9.487126</td>\n",
       "      <td>0.226685</td>\n",
       "      <td>-0.138273</td>\n",
       "      <td>3420.02</td>\n",
       "    </tr>\n",
       "    <tr>\n",
       "      <th>3</th>\n",
       "      <td>3425.19</td>\n",
       "      <td>10.325669</td>\n",
       "      <td>0.127937</td>\n",
       "      <td>0.019565</td>\n",
       "      <td>3420.27</td>\n",
       "    </tr>\n",
       "    <tr>\n",
       "      <th>4</th>\n",
       "      <td>3422.83</td>\n",
       "      <td>8.280380</td>\n",
       "      <td>0.120958</td>\n",
       "      <td>-0.069193</td>\n",
       "      <td>3418.89</td>\n",
       "    </tr>\n",
       "    <tr>\n",
       "      <th>5</th>\n",
       "      <td>3420.66</td>\n",
       "      <td>23.359071</td>\n",
       "      <td>0.145614</td>\n",
       "      <td>-0.067777</td>\n",
       "      <td>3421.00</td>\n",
       "    </tr>\n",
       "    <tr>\n",
       "      <th>6</th>\n",
       "      <td>3422.34</td>\n",
       "      <td>10.720015</td>\n",
       "      <td>0.109081</td>\n",
       "      <td>-0.025123</td>\n",
       "      <td>3416.13</td>\n",
       "    </tr>\n",
       "    <tr>\n",
       "      <th>7</th>\n",
       "      <td>3422.73</td>\n",
       "      <td>33.902123</td>\n",
       "      <td>0.170233</td>\n",
       "      <td>0.058760</td>\n",
       "      <td>3417.35</td>\n",
       "    </tr>\n",
       "    <tr>\n",
       "      <th>8</th>\n",
       "      <td>3425.30</td>\n",
       "      <td>43.512169</td>\n",
       "      <td>0.204849</td>\n",
       "      <td>0.075671</td>\n",
       "      <td>3418.80</td>\n",
       "    </tr>\n",
       "    <tr>\n",
       "      <th>9</th>\n",
       "      <td>3423.94</td>\n",
       "      <td>11.524962</td>\n",
       "      <td>0.118644</td>\n",
       "      <td>-0.039705</td>\n",
       "      <td>3417.98</td>\n",
       "    </tr>\n",
       "    <tr>\n",
       "      <th>10</th>\n",
       "      <td>3422.29</td>\n",
       "      <td>29.772569</td>\n",
       "      <td>0.097944</td>\n",
       "      <td>-0.040308</td>\n",
       "      <td>3421.12</td>\n",
       "    </tr>\n",
       "    <tr>\n",
       "      <th>11</th>\n",
       "      <td>3422.97</td>\n",
       "      <td>12.618433</td>\n",
       "      <td>0.028930</td>\n",
       "      <td>0.027177</td>\n",
       "      <td>3419.56</td>\n",
       "    </tr>\n",
       "    <tr>\n",
       "      <th>12</th>\n",
       "      <td>3420.02</td>\n",
       "      <td>11.714080</td>\n",
       "      <td>0.124030</td>\n",
       "      <td>-0.071878</td>\n",
       "      <td>3428.74</td>\n",
       "    </tr>\n",
       "    <tr>\n",
       "      <th>13</th>\n",
       "      <td>3420.27</td>\n",
       "      <td>4.653977</td>\n",
       "      <td>0.040364</td>\n",
       "      <td>0.040364</td>\n",
       "      <td>3426.17</td>\n",
       "    </tr>\n",
       "    <tr>\n",
       "      <th>14</th>\n",
       "      <td>3418.89</td>\n",
       "      <td>13.104127</td>\n",
       "      <td>0.062594</td>\n",
       "      <td>-0.037717</td>\n",
       "      <td>3430.75</td>\n",
       "    </tr>\n",
       "    <tr>\n",
       "      <th>15</th>\n",
       "      <td>3421.00</td>\n",
       "      <td>27.082910</td>\n",
       "      <td>0.159156</td>\n",
       "      <td>0.058497</td>\n",
       "      <td>3431.34</td>\n",
       "    </tr>\n",
       "    <tr>\n",
       "      <th>16</th>\n",
       "      <td>3416.13</td>\n",
       "      <td>77.631132</td>\n",
       "      <td>0.228404</td>\n",
       "      <td>-0.142356</td>\n",
       "      <td>3430.66</td>\n",
       "    </tr>\n",
       "    <tr>\n",
       "      <th>17</th>\n",
       "      <td>3417.35</td>\n",
       "      <td>7.925638</td>\n",
       "      <td>0.098372</td>\n",
       "      <td>-0.013751</td>\n",
       "      <td>3427.91</td>\n",
       "    </tr>\n",
       "    <tr>\n",
       "      <th>18</th>\n",
       "      <td>3418.80</td>\n",
       "      <td>54.358733</td>\n",
       "      <td>0.135318</td>\n",
       "      <td>0.050043</td>\n",
       "      <td>3430.14</td>\n",
       "    </tr>\n",
       "    <tr>\n",
       "      <th>19</th>\n",
       "      <td>3417.98</td>\n",
       "      <td>8.872988</td>\n",
       "      <td>0.090753</td>\n",
       "      <td>-0.023400</td>\n",
       "      <td>3432.58</td>\n",
       "    </tr>\n",
       "  </tbody>\n",
       "</table>\n",
       "</div>"
      ],
      "text/plain": [
       "      close     volume    hl_pct  pct_change    label\n",
       "0   3433.40  19.362386  0.127899   -0.017763  3422.29\n",
       "1   3425.85  49.151693  0.328562   -0.226292  3422.97\n",
       "2   3423.26   9.487126  0.226685   -0.138273  3420.02\n",
       "3   3425.19  10.325669  0.127937    0.019565  3420.27\n",
       "4   3422.83   8.280380  0.120958   -0.069193  3418.89\n",
       "5   3420.66  23.359071  0.145614   -0.067777  3421.00\n",
       "6   3422.34  10.720015  0.109081   -0.025123  3416.13\n",
       "7   3422.73  33.902123  0.170233    0.058760  3417.35\n",
       "8   3425.30  43.512169  0.204849    0.075671  3418.80\n",
       "9   3423.94  11.524962  0.118644   -0.039705  3417.98\n",
       "10  3422.29  29.772569  0.097944   -0.040308  3421.12\n",
       "11  3422.97  12.618433  0.028930    0.027177  3419.56\n",
       "12  3420.02  11.714080  0.124030   -0.071878  3428.74\n",
       "13  3420.27   4.653977  0.040364    0.040364  3426.17\n",
       "14  3418.89  13.104127  0.062594   -0.037717  3430.75\n",
       "15  3421.00  27.082910  0.159156    0.058497  3431.34\n",
       "16  3416.13  77.631132  0.228404   -0.142356  3430.66\n",
       "17  3417.35   7.925638  0.098372   -0.013751  3427.91\n",
       "18  3418.80  54.358733  0.135318    0.050043  3430.14\n",
       "19  3417.98   8.872988  0.090753   -0.023400  3432.58"
      ]
     },
     "metadata": {},
     "output_type": "display_data"
    },
    {
     "data": {
      "text/html": [
       "<div>\n",
       "<style scoped>\n",
       "    .dataframe tbody tr th:only-of-type {\n",
       "        vertical-align: middle;\n",
       "    }\n",
       "\n",
       "    .dataframe tbody tr th {\n",
       "        vertical-align: top;\n",
       "    }\n",
       "\n",
       "    .dataframe thead th {\n",
       "        text-align: right;\n",
       "    }\n",
       "</style>\n",
       "<table border=\"1\" class=\"dataframe\">\n",
       "  <thead>\n",
       "    <tr style=\"text-align: right;\">\n",
       "      <th></th>\n",
       "      <th>close</th>\n",
       "      <th>volume</th>\n",
       "      <th>hl_pct</th>\n",
       "      <th>pct_change</th>\n",
       "      <th>label</th>\n",
       "    </tr>\n",
       "  </thead>\n",
       "  <tbody>\n",
       "    <tr>\n",
       "      <th>14385</th>\n",
       "      <td>4040.01</td>\n",
       "      <td>75.850425</td>\n",
       "      <td>0.232916</td>\n",
       "      <td>-0.113732</td>\n",
       "      <td>4057.01</td>\n",
       "    </tr>\n",
       "    <tr>\n",
       "      <th>14386</th>\n",
       "      <td>4040.56</td>\n",
       "      <td>35.601706</td>\n",
       "      <td>0.256512</td>\n",
       "      <td>-0.017321</td>\n",
       "      <td>4052.22</td>\n",
       "    </tr>\n",
       "    <tr>\n",
       "      <th>14387</th>\n",
       "      <td>4035.00</td>\n",
       "      <td>18.979861</td>\n",
       "      <td>0.137794</td>\n",
       "      <td>-0.137605</td>\n",
       "      <td>4052.09</td>\n",
       "    </tr>\n",
       "    <tr>\n",
       "      <th>14388</th>\n",
       "      <td>4039.25</td>\n",
       "      <td>22.752791</td>\n",
       "      <td>0.187165</td>\n",
       "      <td>0.089205</td>\n",
       "      <td>4055.36</td>\n",
       "    </tr>\n",
       "    <tr>\n",
       "      <th>14389</th>\n",
       "      <td>4039.16</td>\n",
       "      <td>30.551036</td>\n",
       "      <td>0.224181</td>\n",
       "      <td>-0.025741</td>\n",
       "      <td>4049.62</td>\n",
       "    </tr>\n",
       "  </tbody>\n",
       "</table>\n",
       "</div>"
      ],
      "text/plain": [
       "         close     volume    hl_pct  pct_change    label\n",
       "14385  4040.01  75.850425  0.232916   -0.113732  4057.01\n",
       "14386  4040.56  35.601706  0.256512   -0.017321  4052.22\n",
       "14387  4035.00  18.979861  0.137794   -0.137605  4052.09\n",
       "14388  4039.25  22.752791  0.187165    0.089205  4055.36\n",
       "14389  4039.16  30.551036  0.224181   -0.025741  4049.62"
      ]
     },
     "metadata": {},
     "output_type": "display_data"
    }
   ],
   "source": [
    "df_reduced = df.drop(labels=['timestamp'], axis=1)\n",
    "df_reduced['hl_pct'] = (df_reduced['high'] - df_reduced['low']) / df_reduced['low'] * 100.0\n",
    "df_reduced['pct_change'] = (df_reduced['close'] - df_reduced['open']) / df_reduced['open'] * 100.0\n",
    "df_reduced = df_reduced.drop(labels=['high', 'low', 'open'], axis=1)\n",
    "\n",
    "forecast_out = 10\n",
    "forecast_col = 'close'\n",
    "df_reduced['label'] = df_reduced[forecast_col].shift(-forecast_out)\n",
    "df_reduced.dropna(inplace=True)\n",
    "display(df_reduced[:20])\n",
    "display(df_reduced.tail())"
   ]
  },
  {
   "cell_type": "markdown",
   "metadata": {},
   "source": [
    "Now, the next step is to split the training/testing data."
   ]
  },
  {
   "cell_type": "code",
   "execution_count": 9,
   "metadata": {},
   "outputs": [
    {
     "data": {
      "text/plain": [
       "(11512, 4)"
      ]
     },
     "metadata": {},
     "output_type": "display_data"
    },
    {
     "data": {
      "text/plain": [
       "(2878, 4)"
      ]
     },
     "metadata": {},
     "output_type": "display_data"
    }
   ],
   "source": [
    "percent_training = .8\n",
    "X = np.array(df_reduced.drop(['label'], axis=1))\n",
    "y = np.array(df_reduced['label'])\n",
    "# X = preprocessing.scale(X)\n",
    "X_train, X_test, y_train, y_test = train_test_split(X, y, test_size=(1 - percent_training))\n",
    "display(X_train.shape)\n",
    "display(X_test.shape)"
   ]
  },
  {
   "cell_type": "markdown",
   "metadata": {},
   "source": [
    "Now, we can train linear regression model and check its accuracy."
   ]
  },
  {
   "cell_type": "code",
   "execution_count": 10,
   "metadata": {},
   "outputs": [
    {
     "data": {
      "text/plain": [
       "0.9969741862366558"
      ]
     },
     "execution_count": 10,
     "metadata": {},
     "output_type": "execute_result"
    }
   ],
   "source": [
    "clf = LinearRegression()\n",
    "clf.fit(X_train, y_train)\n",
    "accuracy = clf.score(X_test, y_test)\n",
    "accuracy"
   ]
  },
  {
   "cell_type": "code",
   "execution_count": 11,
   "metadata": {},
   "outputs": [
    {
     "name": "stdout",
     "output_type": "stream",
     "text": [
      "Split data such that training has 11520 points, and testing has 2880 points.\n"
     ]
    }
   ],
   "source": [
    "# Split training/testing data\n",
    "percent_training = .8\n",
    "div = math.floor(len(df) * percent_training)\n",
    "training = df.drop(labels=np.arange(len(df))[div:])\n",
    "testing = df.drop(labels=np.arange(len(df))[:div])\n",
    "print(\"Split data such that training has \" + str(len(training)) + \\\n",
    "      \" points, and testing has \" + str(len(testing)) + \" points.\")"
   ]
  }
 ],
 "metadata": {
  "kernelspec": {
   "display_name": "Python 3",
   "language": "python",
   "name": "python3"
  },
  "language_info": {
   "codemirror_mode": {
    "name": "ipython",
    "version": 3
   },
   "file_extension": ".py",
   "mimetype": "text/x-python",
   "name": "python",
   "nbconvert_exporter": "python",
   "pygments_lexer": "ipython3",
   "version": "3.7.0"
  }
 },
 "nbformat": 4,
 "nbformat_minor": 2
}
