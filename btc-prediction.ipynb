{
 "cells": [
  {
   "cell_type": "markdown",
   "metadata": {},
   "source": [
    "# BTC Prediction\n",
    "Began 12/17/18  \n",
    "Using sklearn modules to make predictions on bitcoin data."
   ]
  },
  {
   "cell_type": "code",
   "execution_count": 1,
   "metadata": {},
   "outputs": [],
   "source": [
    "import requests\n",
    "import io\n",
    "import os\n",
    "import math\n",
    "\n",
    "import pandas as pd\n",
    "import matplotlib.pyplot as plt\n",
    "import numpy as np\n",
    "from sklearn.model_selection import train_test_split\n",
    "from sklearn.linear_model import LinearRegression\n",
    "from sklearn import svm\n",
    "\n",
    "from IPython.display import display"
   ]
  },
  {
   "cell_type": "markdown",
   "metadata": {},
   "source": [
    "## Data Extraction\n",
    "Using [1Token.trade](https://1token.trade/) for the bitcoin data. You can find documentation for their api [here](https://1token.trade/docs#/hist-quote/historical-data)."
   ]
  },
  {
   "cell_type": "code",
   "execution_count": 2,
   "metadata": {},
   "outputs": [],
   "source": [
    "# 1Token's API address\n",
    "tokenapi = 'http://hist-quote.1tokentrade.cn'"
   ]
  },
  {
   "cell_type": "markdown",
   "metadata": {},
   "source": [
    "Run the following cell to extract token from `token.txt` in this same directory.  \n",
    "Can replace this code with just `ot_key = \"your 1Token API key\"`"
   ]
  },
  {
   "cell_type": "code",
   "execution_count": 3,
   "metadata": {},
   "outputs": [],
   "source": [
    "# Retrieve API token\n",
    "current_path = os.getcwd()\n",
    "with open(current_path + '/token.txt') as file:\n",
    "    ot_key = file.read().splitlines()[0]"
   ]
  },
  {
   "cell_type": "markdown",
   "metadata": {},
   "source": [
    "The following two cells are sample 1Token API calls to query all contracts available and single tick data, not used for our analysis."
   ]
  },
  {
   "cell_type": "code",
   "execution_count": 4,
   "metadata": {},
   "outputs": [],
   "source": [
    "# Query all contracts for a certain date\n",
    "# params = {\n",
    "#     'date' : '2018-02-02',\n",
    "# }\n",
    "# r = requests.get(tokenapi + '/ticks/contracts', headers = {'ot-key' : ot_key}, params = params)\n",
    "# r.json()"
   ]
  },
  {
   "cell_type": "code",
   "execution_count": 5,
   "metadata": {},
   "outputs": [],
   "source": [
    "# Query a single price at date/contract\n",
    "# params = {\n",
    "#     'contract' : 'binance/btc.usdt',\n",
    "#     'date' : '2018-02-02',\n",
    "# }\n",
    "# r = requests.get(tokenapi + '/ticks/simple' , headers = {'ot-key' : ot_key}, params = params)\n",
    "# r"
   ]
  },
  {
   "cell_type": "markdown",
   "metadata": {},
   "source": [
    "Querying 1Token's \"candle\" data.   \n",
    "Currently querying for the contract 'binance/btx.usdt'.  \n",
    "I am also writing all the data to a local file `btc-historical-data.csv`, but this is unnecessary."
   ]
  },
  {
   "cell_type": "code",
   "execution_count": 6,
   "metadata": {},
   "outputs": [
    {
     "name": "stdout",
     "output_type": "stream",
     "text": [
      "Number of data points: 14400.0\n"
     ]
    },
    {
     "data": {
      "text/html": [
       "<div>\n",
       "<style scoped>\n",
       "    .dataframe tbody tr th:only-of-type {\n",
       "        vertical-align: middle;\n",
       "    }\n",
       "\n",
       "    .dataframe tbody tr th {\n",
       "        vertical-align: top;\n",
       "    }\n",
       "\n",
       "    .dataframe thead th {\n",
       "        text-align: right;\n",
       "    }\n",
       "</style>\n",
       "<table border=\"1\" class=\"dataframe\">\n",
       "  <thead>\n",
       "    <tr style=\"text-align: right;\">\n",
       "      <th></th>\n",
       "      <th>close</th>\n",
       "      <th>high</th>\n",
       "      <th>low</th>\n",
       "      <th>open</th>\n",
       "      <th>timestamp</th>\n",
       "      <th>volume</th>\n",
       "    </tr>\n",
       "  </thead>\n",
       "  <tbody>\n",
       "    <tr>\n",
       "      <th>0</th>\n",
       "      <td>3433.40</td>\n",
       "      <td>3436.78</td>\n",
       "      <td>3432.39</td>\n",
       "      <td>3434.01</td>\n",
       "      <td>1544486400</td>\n",
       "      <td>19.362386</td>\n",
       "    </tr>\n",
       "    <tr>\n",
       "      <th>1</th>\n",
       "      <td>3425.85</td>\n",
       "      <td>3435.26</td>\n",
       "      <td>3424.01</td>\n",
       "      <td>3433.62</td>\n",
       "      <td>1544486460</td>\n",
       "      <td>49.151693</td>\n",
       "    </tr>\n",
       "    <tr>\n",
       "      <th>2</th>\n",
       "      <td>3423.26</td>\n",
       "      <td>3431.02</td>\n",
       "      <td>3423.26</td>\n",
       "      <td>3428.00</td>\n",
       "      <td>1544486520</td>\n",
       "      <td>9.487126</td>\n",
       "    </tr>\n",
       "    <tr>\n",
       "      <th>3</th>\n",
       "      <td>3425.19</td>\n",
       "      <td>3427.95</td>\n",
       "      <td>3423.57</td>\n",
       "      <td>3424.52</td>\n",
       "      <td>1544486580</td>\n",
       "      <td>10.325669</td>\n",
       "    </tr>\n",
       "    <tr>\n",
       "      <th>4</th>\n",
       "      <td>3422.83</td>\n",
       "      <td>3426.81</td>\n",
       "      <td>3422.67</td>\n",
       "      <td>3425.20</td>\n",
       "      <td>1544486640</td>\n",
       "      <td>8.280380</td>\n",
       "    </tr>\n",
       "  </tbody>\n",
       "</table>\n",
       "</div>"
      ],
      "text/plain": [
       "     close     high      low     open   timestamp     volume\n",
       "0  3433.40  3436.78  3432.39  3434.01  1544486400  19.362386\n",
       "1  3425.85  3435.26  3424.01  3433.62  1544486460  49.151693\n",
       "2  3423.26  3431.02  3423.26  3428.00  1544486520   9.487126\n",
       "3  3425.19  3427.95  3423.57  3424.52  1544486580  10.325669\n",
       "4  3422.83  3426.81  3422.67  3425.20  1544486640   8.280380"
      ]
     },
     "execution_count": 6,
     "metadata": {},
     "output_type": "execute_result"
    }
   ],
   "source": [
    "# Query \"candlestick\" data\n",
    "params = {\n",
    "#     'since' : '2013-12-10',\n",
    "#     'since' : '2017-12-21',\n",
    "    'since' : '2018-12-11',\n",
    "    'until' : '2018-12-21',\n",
    "    'contract' : 'binance/btc.usdt',\n",
    "#     'duration' : '1d',\n",
    "    'duration' : '1m',\n",
    "    'format' : 'csv'\n",
    "}\n",
    "r = requests.get(tokenapi + '/candles' , headers = {'ot-key' : ot_key}, params = params, stream = True)\n",
    "\n",
    "# Write to local file\n",
    "df = pd.read_csv(io.StringIO(r.text))   \n",
    "df.to_csv(current_path + '/btc-historical-data.csv')\n",
    "print(\"Number of data points:\", df.size / 6)\n",
    "df.head()"
   ]
  },
  {
   "cell_type": "markdown",
   "metadata": {},
   "source": [
    "Following cell is just used to plot the current DataFrame:"
   ]
  },
  {
   "cell_type": "code",
   "execution_count": 7,
   "metadata": {},
   "outputs": [
    {
     "data": {
      "text/plain": [
       "<matplotlib.axes._subplots.AxesSubplot at 0x123baa5f8>"
      ]
     },
     "metadata": {},
     "output_type": "display_data"
    },
    {
     "data": {
      "image/png": "[encoded data removed]",
      "text/plain": [
       "<Figure size 432x288 with 1 Axes>"
      ]
     },
     "metadata": {
      "needs_background": "light"
     },
     "output_type": "display_data"
    }
   ],
   "source": [
    "# Plot opening price across entire set\n",
    "df_plot = df.drop(labels=['close', 'high', 'low', 'volume'], axis=1)\n",
    "earliest_timestamp = df_plot['timestamp'][0]\n",
    "# df_plot['timestamp'] = df_plot['timestamp'].apply(lambda x : (x - earliest_timestamp) / 60 / 60 / 24)\n",
    "df_plot['timestamp'] = df_plot['timestamp'].apply(lambda x : (x - earliest_timestamp))\n",
    "a = df_plot.plot(x = 'timestamp', y = 'open', \\\n",
    "                     title='Bitcoin opening price over time tick')\n",
    "a.set_ylabel(\"opening price (dollars)\")\n",
    "a.set_xlabel(\"time tick (seconds)\")\n",
    "display(a)"
   ]
  },
  {
   "cell_type": "markdown",
   "metadata": {},
   "source": [
    "## Data Preparation\n",
    "We will reduce the features of our data down to \"close\", \"volume\", \"hl_pct\", \"pct_change\".  \n",
    "\"hl_pct\" will stand for high-low percentage - the percent change between the high and low of a given tick.  \n",
    "\"pct_change\" will stand for percent change - the percent change between open and close of a given tick.  \n",
    "I will be trying to predict the closing price `forecast_out` ticks away.\n",
    "<!--I will be trying to predict the pct_change for a given tick. Positive pct_change will mean a long, negative pct_change will mean a short. -->"
   ]
  },
  {
   "cell_type": "code",
   "execution_count": 21,
   "metadata": {},
   "outputs": [
    {
     "data": {
      "text/html": [
       "<div>\n",
       "<style scoped>\n",
       "    .dataframe tbody tr th:only-of-type {\n",
       "        vertical-align: middle;\n",
       "    }\n",
       "\n",
       "    .dataframe tbody tr th {\n",
       "        vertical-align: top;\n",
       "    }\n",
       "\n",
       "    .dataframe thead th {\n",
       "        text-align: right;\n",
       "    }\n",
       "</style>\n",
       "<table border=\"1\" class=\"dataframe\">\n",
       "  <thead>\n",
       "    <tr style=\"text-align: right;\">\n",
       "      <th></th>\n",
       "      <th>close</th>\n",
       "      <th>volume</th>\n",
       "      <th>hl_pct</th>\n",
       "      <th>pct_change</th>\n",
       "      <th>label</th>\n",
       "    </tr>\n",
       "  </thead>\n",
       "  <tbody>\n",
       "    <tr>\n",
       "      <th>0</th>\n",
       "      <td>3433.40</td>\n",
       "      <td>19.362386</td>\n",
       "      <td>0.127899</td>\n",
       "      <td>-0.017763</td>\n",
       "      <td>3415.54</td>\n",
       "    </tr>\n",
       "    <tr>\n",
       "      <th>1</th>\n",
       "      <td>3425.85</td>\n",
       "      <td>49.151693</td>\n",
       "      <td>0.328562</td>\n",
       "      <td>-0.226292</td>\n",
       "      <td>3404.00</td>\n",
       "    </tr>\n",
       "    <tr>\n",
       "      <th>2</th>\n",
       "      <td>3423.26</td>\n",
       "      <td>9.487126</td>\n",
       "      <td>0.226685</td>\n",
       "      <td>-0.138273</td>\n",
       "      <td>3406.03</td>\n",
       "    </tr>\n",
       "    <tr>\n",
       "      <th>3</th>\n",
       "      <td>3425.19</td>\n",
       "      <td>10.325669</td>\n",
       "      <td>0.127937</td>\n",
       "      <td>0.019565</td>\n",
       "      <td>3406.50</td>\n",
       "    </tr>\n",
       "    <tr>\n",
       "      <th>4</th>\n",
       "      <td>3422.83</td>\n",
       "      <td>8.280380</td>\n",
       "      <td>0.120958</td>\n",
       "      <td>-0.069193</td>\n",
       "      <td>3406.35</td>\n",
       "    </tr>\n",
       "  </tbody>\n",
       "</table>\n",
       "</div>"
      ],
      "text/plain": [
       "     close     volume    hl_pct  pct_change    label\n",
       "0  3433.40  19.362386  0.127899   -0.017763  3415.54\n",
       "1  3425.85  49.151693  0.328562   -0.226292  3404.00\n",
       "2  3423.26   9.487126  0.226685   -0.138273  3406.03\n",
       "3  3425.19  10.325669  0.127937    0.019565  3406.50\n",
       "4  3422.83   8.280380  0.120958   -0.069193  3406.35"
      ]
     },
     "metadata": {},
     "output_type": "display_data"
    },
    {
     "data": {
      "text/html": [
       "<div>\n",
       "<style scoped>\n",
       "    .dataframe tbody tr th:only-of-type {\n",
       "        vertical-align: middle;\n",
       "    }\n",
       "\n",
       "    .dataframe tbody tr th {\n",
       "        vertical-align: top;\n",
       "    }\n",
       "\n",
       "    .dataframe thead th {\n",
       "        text-align: right;\n",
       "    }\n",
       "</style>\n",
       "<table border=\"1\" class=\"dataframe\">\n",
       "  <thead>\n",
       "    <tr style=\"text-align: right;\">\n",
       "      <th></th>\n",
       "      <th>close</th>\n",
       "      <th>volume</th>\n",
       "      <th>hl_pct</th>\n",
       "      <th>pct_change</th>\n",
       "      <th>label</th>\n",
       "    </tr>\n",
       "  </thead>\n",
       "  <tbody>\n",
       "    <tr>\n",
       "      <th>14335</th>\n",
       "      <td>4024.39</td>\n",
       "      <td>20.683896</td>\n",
       "      <td>0.134003</td>\n",
       "      <td>0.043752</td>\n",
       "      <td>4057.01</td>\n",
       "    </tr>\n",
       "    <tr>\n",
       "      <th>14336</th>\n",
       "      <td>4022.01</td>\n",
       "      <td>20.948302</td>\n",
       "      <td>0.146797</td>\n",
       "      <td>-0.021875</td>\n",
       "      <td>4052.22</td>\n",
       "    </tr>\n",
       "    <tr>\n",
       "      <th>14337</th>\n",
       "      <td>4026.32</td>\n",
       "      <td>40.810011</td>\n",
       "      <td>0.218164</td>\n",
       "      <td>0.033292</td>\n",
       "      <td>4052.09</td>\n",
       "    </tr>\n",
       "    <tr>\n",
       "      <th>14338</th>\n",
       "      <td>4045.43</td>\n",
       "      <td>47.263655</td>\n",
       "      <td>0.607370</td>\n",
       "      <td>0.475126</td>\n",
       "      <td>4055.36</td>\n",
       "    </tr>\n",
       "    <tr>\n",
       "      <th>14339</th>\n",
       "      <td>4043.51</td>\n",
       "      <td>108.259479</td>\n",
       "      <td>0.433078</td>\n",
       "      <td>-0.047214</td>\n",
       "      <td>4049.62</td>\n",
       "    </tr>\n",
       "  </tbody>\n",
       "</table>\n",
       "</div>"
      ],
      "text/plain": [
       "         close      volume    hl_pct  pct_change    label\n",
       "14335  4024.39   20.683896  0.134003    0.043752  4057.01\n",
       "14336  4022.01   20.948302  0.146797   -0.021875  4052.22\n",
       "14337  4026.32   40.810011  0.218164    0.033292  4052.09\n",
       "14338  4045.43   47.263655  0.607370    0.475126  4055.36\n",
       "14339  4043.51  108.259479  0.433078   -0.047214  4049.62"
      ]
     },
     "metadata": {},
     "output_type": "display_data"
    }
   ],
   "source": [
    "df_reduced = df.drop(labels=['timestamp'], axis=1)\n",
    "df_reduced['hl_pct'] = (df_reduced['high'] - df_reduced['low']) / df_reduced['low'] * 100.0\n",
    "df_reduced['pct_change'] = (df_reduced['close'] - df_reduced['open']) / df_reduced['open'] * 100.0\n",
    "df_reduced = df_reduced.drop(labels=['high', 'low', 'open'], axis=1)\n",
    "\n",
    "forecast_out = 60\n",
    "forecast_col = 'close'\n",
    "df_reduced['label'] = df_reduced[forecast_col].shift(-forecast_out)\n",
    "df_reduced_nonan = df_reduced.dropna(inplace=False)\n",
    "display(df_reduced_nonan.head())\n",
    "display(df_reduced_nonan.tail())"
   ]
  },
  {
   "cell_type": "markdown",
   "metadata": {},
   "source": [
    "Now, the next step is to split the training/testing data."
   ]
  },
  {
   "cell_type": "code",
   "execution_count": 9,
   "metadata": {
    "scrolled": true
   },
   "outputs": [
    {
     "data": {
      "text/plain": [
       "(11472, 4)"
      ]
     },
     "metadata": {},
     "output_type": "display_data"
    },
    {
     "data": {
      "text/plain": [
       "(2868, 4)"
      ]
     },
     "metadata": {},
     "output_type": "display_data"
    }
   ],
   "source": [
    "percent_training = .8\n",
    "X = np.array(df_reduced_nonan.drop(['label'], axis=1))\n",
    "y = np.array(df_reduced_nonan['label'])\n",
    "# X = preprocessing.scale(X)\n",
    "X_train, X_test, y_train, y_test = train_test_split(X, y, test_size=(1 - percent_training))\n",
    "display(X_train.shape)\n",
    "display(X_test.shape)"
   ]
  },
  {
   "cell_type": "markdown",
   "metadata": {},
   "source": [
    "## Train/Test\n",
    "Now, we can train linear regression model and check its accuracy."
   ]
  },
  {
   "cell_type": "code",
   "execution_count": 47,
   "metadata": {},
   "outputs": [
    {
     "data": {
      "text/plain": [
       "0.9795601339019457"
      ]
     },
     "execution_count": 47,
     "metadata": {},
     "output_type": "execute_result"
    }
   ],
   "source": [
    "clf = LinearRegression(n_jobs=-1)\n",
    "clf.fit(X_train, y_train)\n",
    "accuracy = clf.score(X_test, y_test)\n",
    "accuracy"
   ]
  },
  {
   "cell_type": "markdown",
   "metadata": {},
   "source": [
    "We can also try regression using svm..."
   ]
  },
  {
   "cell_type": "code",
   "execution_count": 45,
   "metadata": {},
   "outputs": [
    {
     "data": {
      "text/plain": [
       "0.918196951132054"
      ]
     },
     "execution_count": 45,
     "metadata": {},
     "output_type": "execute_result"
    }
   ],
   "source": [
    "# svm_clf = svm.SVR(kernel='poly', gamma='scale')\n",
    "svm_clf = svm.SVR(gamma='scale')\n",
    "svm_clf.fit(X_train, y_train)\n",
    "accuracy = svm_clf.score(X_test, y_test)\n",
    "accuracy"
   ]
  },
  {
   "cell_type": "markdown",
   "metadata": {},
   "source": [
    "## Prediction\n",
    "Now, we can try to predict the last `forecast_out` time ticks.  \n",
    "Let's say n = `forecast_out`.  \n",
    "Since we've shifted our labels by n, we can use from the `len(data) - n - n`th tick to the `len(data) - n`th tick to predict the last `n` labels, which are currently `NaN`, to see the classifier in action?"
   ]
  },
  {
   "cell_type": "code",
   "execution_count": 62,
   "metadata": {},
   "outputs": [
    {
     "data": {
      "text/plain": [
       "<matplotlib.axes._subplots.AxesSubplot at 0x12443ad68>"
      ]
     },
     "metadata": {},
     "output_type": "display_data"
    },
    {
     "data": {
      "image/png": "[encoded data removed]",
      "text/plain": [
       "<Figure size 432x288 with 1 Axes>"
      ]
     },
     "metadata": {
      "needs_background": "light"
     },
     "output_type": "display_data"
    }
   ],
   "source": [
    "forecast_set = df_reduced[-forecast_out-forecast_out:-forecast_out]\n",
    "predicted_set = clf.predict(forecast_set.drop('label', axis=1))\n",
    "actual_set = df_reduced[- forecast_out:].drop(['volume', 'hl_pct', 'pct_change', 'label'], axis=1)\n",
    "actual_set['index'] = np.arange(len(actual_set))\n",
    "actual_set['predicted'] = predicted_set\n",
    "actual_set.set_index('index', inplace=True)\n",
    "\n",
    "a = actual_set.plot()\n",
    "a.set_xlabel('time (minutes)')\n",
    "a.set_ylabel('price (dollars)')\n",
    "display(a)"
   ]
  }
 ],
 "metadata": {
  "kernelspec": {
   "display_name": "Python 3",
   "language": "python",
   "name": "python3"
  },
  "language_info": {
   "codemirror_mode": {
    "name": "ipython",
    "version": 3
   },
   "file_extension": ".py",
   "mimetype": "text/x-python",
   "name": "python",
   "nbconvert_exporter": "python",
   "pygments_lexer": "ipython3",
   "version": "3.7.0"
  }
 },
 "nbformat": 4,
 "nbformat_minor": 2
}
