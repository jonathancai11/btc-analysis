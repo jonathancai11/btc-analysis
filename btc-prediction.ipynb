{
 "cells": [
  {
   "cell_type": "markdown",
   "metadata": {},
   "source": [
    "# BTC Prediction\n",
    "12/17/18 Jonathan Cai  \n",
    "Using sklearn models to make predictions on bitcoin data."
   ]
  },
  {
   "cell_type": "code",
   "execution_count": 2,
   "metadata": {},
   "outputs": [],
   "source": [
    "from datetime import timedelta, date, datetime\n",
    "import requests\n",
    "import io\n",
    "import os\n",
    "import math\n",
    "\n",
    "import pandas as pd\n",
    "import matplotlib.pyplot as plt\n",
    "import numpy as np\n",
    "from sklearn.model_selection import train_test_split\n",
    "from sklearn.linear_model import LinearRegression\n",
    "from sklearn import svm, preprocessing\n",
    "\n",
    "import seaborn as sns\n",
    "\n",
    "from IPython.display import display\n",
    "from matplotlib import style"
   ]
  },
  {
   "cell_type": "markdown",
   "metadata": {},
   "source": [
    "Some plotting style..."
   ]
  },
  {
   "cell_type": "code",
   "execution_count": 3,
   "metadata": {},
   "outputs": [],
   "source": [
    "style.use('ggplot')"
   ]
  },
  {
   "cell_type": "markdown",
   "metadata": {},
   "source": [
    "## Data Extraction\n",
    "Using [1Token.trade](https://1token.trade/) for the bitcoin data. Documentation for their api can be found [here](https://1token.trade/docs#/hist-quote/historical-data)."
   ]
  },
  {
   "cell_type": "code",
   "execution_count": 4,
   "metadata": {},
   "outputs": [],
   "source": [
    "# 1Token's API address\n",
    "tokenapi = 'http://hist-quote.1tokentrade.cn'"
   ]
  },
  {
   "cell_type": "markdown",
   "metadata": {},
   "source": [
    "Run the following cell to extract token from `token.txt` in this same directory.  \n",
    "Can replace this code with just `ot_key = \"your 1Token API key\"`"
   ]
  },
  {
   "cell_type": "code",
   "execution_count": 5,
   "metadata": {},
   "outputs": [],
   "source": [
    "# Retrieve API token\n",
    "current_path = os.getcwd()\n",
    "with open(current_path + '/token.txt') as file:\n",
    "    ot_key = file.read().splitlines()[0]"
   ]
  },
  {
   "cell_type": "markdown",
   "metadata": {},
   "source": [
    "Querying 1Token's \"candle\" data.   \n",
    "Currently looking at the contract 'binance/btx.usdt'.  \n",
    "The max number of data points that 1Token allows in a single query is 15,000."
   ]
  },
  {
   "cell_type": "code",
   "execution_count": 25,
   "metadata": {},
   "outputs": [
    {
     "name": "stdout",
     "output_type": "stream",
     "text": [
      "Number of data points: 14400\n"
     ]
    },
    {
     "data": {
      "text/html": [
       "<div>\n",
       "<style scoped>\n",
       "    .dataframe tbody tr th:only-of-type {\n",
       "        vertical-align: middle;\n",
       "    }\n",
       "\n",
       "    .dataframe tbody tr th {\n",
       "        vertical-align: top;\n",
       "    }\n",
       "\n",
       "    .dataframe thead th {\n",
       "        text-align: right;\n",
       "    }\n",
       "</style>\n",
       "<table border=\"1\" class=\"dataframe\">\n",
       "  <thead>\n",
       "    <tr style=\"text-align: right;\">\n",
       "      <th></th>\n",
       "      <th>close</th>\n",
       "      <th>high</th>\n",
       "      <th>low</th>\n",
       "      <th>open</th>\n",
       "      <th>timestamp</th>\n",
       "      <th>volume</th>\n",
       "    </tr>\n",
       "  </thead>\n",
       "  <tbody>\n",
       "    <tr>\n",
       "      <th>0</th>\n",
       "      <td>3433.40</td>\n",
       "      <td>3436.78</td>\n",
       "      <td>3432.39</td>\n",
       "      <td>3434.01</td>\n",
       "      <td>1544486400</td>\n",
       "      <td>19.362386</td>\n",
       "    </tr>\n",
       "    <tr>\n",
       "      <th>1</th>\n",
       "      <td>3425.85</td>\n",
       "      <td>3435.26</td>\n",
       "      <td>3424.01</td>\n",
       "      <td>3433.62</td>\n",
       "      <td>1544486460</td>\n",
       "      <td>49.151693</td>\n",
       "    </tr>\n",
       "    <tr>\n",
       "      <th>2</th>\n",
       "      <td>3423.26</td>\n",
       "      <td>3431.02</td>\n",
       "      <td>3423.26</td>\n",
       "      <td>3428.00</td>\n",
       "      <td>1544486520</td>\n",
       "      <td>9.487126</td>\n",
       "    </tr>\n",
       "    <tr>\n",
       "      <th>3</th>\n",
       "      <td>3425.19</td>\n",
       "      <td>3427.95</td>\n",
       "      <td>3423.57</td>\n",
       "      <td>3424.52</td>\n",
       "      <td>1544486580</td>\n",
       "      <td>10.325669</td>\n",
       "    </tr>\n",
       "    <tr>\n",
       "      <th>4</th>\n",
       "      <td>3422.83</td>\n",
       "      <td>3426.81</td>\n",
       "      <td>3422.67</td>\n",
       "      <td>3425.20</td>\n",
       "      <td>1544486640</td>\n",
       "      <td>8.280380</td>\n",
       "    </tr>\n",
       "  </tbody>\n",
       "</table>\n",
       "</div>"
      ],
      "text/plain": [
       "     close     high      low     open   timestamp     volume\n",
       "0  3433.40  3436.78  3432.39  3434.01  1544486400  19.362386\n",
       "1  3425.85  3435.26  3424.01  3433.62  1544486460  49.151693\n",
       "2  3423.26  3431.02  3423.26  3428.00  1544486520   9.487126\n",
       "3  3425.19  3427.95  3423.57  3424.52  1544486580  10.325669\n",
       "4  3422.83  3426.81  3422.67  3425.20  1544486640   8.280380"
      ]
     },
     "execution_count": 25,
     "metadata": {},
     "output_type": "execute_result"
    }
   ],
   "source": [
    "params = {\n",
    "    'since' : '2018-12-11',\n",
    "    'until' : '2018-12-21',\n",
    "    'contract' : 'binance/btc.usdt',\n",
    "    'duration' : '1m',\n",
    "    'format' : 'csv'\n",
    "}\n",
    "r = requests.get(tokenapi + '/candles' , headers = {'ot-key' : ot_key}, params = params, stream = True)\n",
    "\n",
    "df = pd.read_csv(io.StringIO(r.text))   \n",
    "print(\"Number of data points:\", len(df.index))\n",
    "df.head()"
   ]
  },
  {
   "cell_type": "markdown",
   "metadata": {},
   "source": [
    "Write to a local file `btc-historical-data.csv`."
   ]
  },
  {
   "cell_type": "code",
   "execution_count": null,
   "metadata": {},
   "outputs": [],
   "source": [
    "df.to_csv(current_path + '/btc-historical-data.csv')"
   ]
  },
  {
   "cell_type": "markdown",
   "metadata": {},
   "source": [
    "Let's visualize the dataset gathered..."
   ]
  },
  {
   "cell_type": "code",
   "execution_count": 26,
   "metadata": {},
   "outputs": [
    {
     "data": {
      "text/plain": [
       "<matplotlib.axes._subplots.AxesSubplot at 0x12a5879b0>"
      ]
     },
     "metadata": {},
     "output_type": "display_data"
    },
    {
     "data": {
      "image/png": "[encoded data removed]",
      "text/plain": [
       "<Figure size 432x288 with 1 Axes>"
      ]
     },
     "metadata": {},
     "output_type": "display_data"
    }
   ],
   "source": [
    "df_plot = df.drop(labels=['close', 'high', 'low', 'volume'], axis=1)\n",
    "earliest_timestamp = df_plot['timestamp'][0]\n",
    "df_plot['timestamp'] = df_plot['timestamp'].apply(lambda x : (x - earliest_timestamp))\n",
    "a = df_plot.plot(x = 'timestamp', y = 'open', \\\n",
    "                     title='Bitcoin opening price over time tick')\n",
    "a.set_ylabel(\"opening price (dollars)\")\n",
    "a.set_xlabel(\"time tick (seconds)\")\n",
    "display(a)"
   ]
  },
  {
   "cell_type": "markdown",
   "metadata": {},
   "source": [
    "## Data Preparation\n",
    "We will reduce the features of our data down to `close`, `volume`, `hl_pct`, `pct_change`.  \n",
    "`hl_pct` will stand for high-low percentage - the percent change between the high and low of a given tick.  \n",
    "`pct_change` will stand for percent change - the percent change between open and close of a given tick.  \n",
    "The logic behind this feature selection is that `hl_pct`, `pct_change`, and `volume` will be indicative of the volatility, while `close` will serve as the benchmark for the current time tick.   \n",
    "The goal will be to predict the closing price `forecast_out` ticks away in order to derive the position one should take in the current time tick  \n",
    "<!--I will be trying to predict the pct_change for a given tick. Positive pct_change will mean a long, negative pct_change will mean a short. -->"
   ]
  },
  {
   "cell_type": "code",
   "execution_count": 27,
   "metadata": {},
   "outputs": [
    {
     "data": {
      "text/html": [
       "<div>\n",
       "<style scoped>\n",
       "    .dataframe tbody tr th:only-of-type {\n",
       "        vertical-align: middle;\n",
       "    }\n",
       "\n",
       "    .dataframe tbody tr th {\n",
       "        vertical-align: top;\n",
       "    }\n",
       "\n",
       "    .dataframe thead th {\n",
       "        text-align: right;\n",
       "    }\n",
       "</style>\n",
       "<table border=\"1\" class=\"dataframe\">\n",
       "  <thead>\n",
       "    <tr style=\"text-align: right;\">\n",
       "      <th></th>\n",
       "      <th>close</th>\n",
       "      <th>volume</th>\n",
       "      <th>hl_pct</th>\n",
       "      <th>pct_change</th>\n",
       "      <th>label</th>\n",
       "    </tr>\n",
       "  </thead>\n",
       "  <tbody>\n",
       "    <tr>\n",
       "      <th>0</th>\n",
       "      <td>3433.40</td>\n",
       "      <td>19.362386</td>\n",
       "      <td>0.127899</td>\n",
       "      <td>-0.017763</td>\n",
       "      <td>3415.54</td>\n",
       "    </tr>\n",
       "    <tr>\n",
       "      <th>1</th>\n",
       "      <td>3425.85</td>\n",
       "      <td>49.151693</td>\n",
       "      <td>0.328562</td>\n",
       "      <td>-0.226292</td>\n",
       "      <td>3404.00</td>\n",
       "    </tr>\n",
       "    <tr>\n",
       "      <th>2</th>\n",
       "      <td>3423.26</td>\n",
       "      <td>9.487126</td>\n",
       "      <td>0.226685</td>\n",
       "      <td>-0.138273</td>\n",
       "      <td>3406.03</td>\n",
       "    </tr>\n",
       "    <tr>\n",
       "      <th>3</th>\n",
       "      <td>3425.19</td>\n",
       "      <td>10.325669</td>\n",
       "      <td>0.127937</td>\n",
       "      <td>0.019565</td>\n",
       "      <td>3406.50</td>\n",
       "    </tr>\n",
       "    <tr>\n",
       "      <th>4</th>\n",
       "      <td>3422.83</td>\n",
       "      <td>8.280380</td>\n",
       "      <td>0.120958</td>\n",
       "      <td>-0.069193</td>\n",
       "      <td>3406.35</td>\n",
       "    </tr>\n",
       "  </tbody>\n",
       "</table>\n",
       "</div>"
      ],
      "text/plain": [
       "     close     volume    hl_pct  pct_change    label\n",
       "0  3433.40  19.362386  0.127899   -0.017763  3415.54\n",
       "1  3425.85  49.151693  0.328562   -0.226292  3404.00\n",
       "2  3423.26   9.487126  0.226685   -0.138273  3406.03\n",
       "3  3425.19  10.325669  0.127937    0.019565  3406.50\n",
       "4  3422.83   8.280380  0.120958   -0.069193  3406.35"
      ]
     },
     "metadata": {},
     "output_type": "display_data"
    },
    {
     "data": {
      "text/html": [
       "<div>\n",
       "<style scoped>\n",
       "    .dataframe tbody tr th:only-of-type {\n",
       "        vertical-align: middle;\n",
       "    }\n",
       "\n",
       "    .dataframe tbody tr th {\n",
       "        vertical-align: top;\n",
       "    }\n",
       "\n",
       "    .dataframe thead th {\n",
       "        text-align: right;\n",
       "    }\n",
       "</style>\n",
       "<table border=\"1\" class=\"dataframe\">\n",
       "  <thead>\n",
       "    <tr style=\"text-align: right;\">\n",
       "      <th></th>\n",
       "      <th>close</th>\n",
       "      <th>volume</th>\n",
       "      <th>hl_pct</th>\n",
       "      <th>pct_change</th>\n",
       "      <th>label</th>\n",
       "    </tr>\n",
       "  </thead>\n",
       "  <tbody>\n",
       "    <tr>\n",
       "      <th>14335</th>\n",
       "      <td>4024.39</td>\n",
       "      <td>20.683896</td>\n",
       "      <td>0.134003</td>\n",
       "      <td>0.043752</td>\n",
       "      <td>4057.01</td>\n",
       "    </tr>\n",
       "    <tr>\n",
       "      <th>14336</th>\n",
       "      <td>4022.01</td>\n",
       "      <td>20.948302</td>\n",
       "      <td>0.146797</td>\n",
       "      <td>-0.021875</td>\n",
       "      <td>4052.22</td>\n",
       "    </tr>\n",
       "    <tr>\n",
       "      <th>14337</th>\n",
       "      <td>4026.32</td>\n",
       "      <td>40.810011</td>\n",
       "      <td>0.218164</td>\n",
       "      <td>0.033292</td>\n",
       "      <td>4052.09</td>\n",
       "    </tr>\n",
       "    <tr>\n",
       "      <th>14338</th>\n",
       "      <td>4045.43</td>\n",
       "      <td>47.263655</td>\n",
       "      <td>0.607370</td>\n",
       "      <td>0.475126</td>\n",
       "      <td>4055.36</td>\n",
       "    </tr>\n",
       "    <tr>\n",
       "      <th>14339</th>\n",
       "      <td>4043.51</td>\n",
       "      <td>108.259479</td>\n",
       "      <td>0.433078</td>\n",
       "      <td>-0.047214</td>\n",
       "      <td>4049.62</td>\n",
       "    </tr>\n",
       "  </tbody>\n",
       "</table>\n",
       "</div>"
      ],
      "text/plain": [
       "         close      volume    hl_pct  pct_change    label\n",
       "14335  4024.39   20.683896  0.134003    0.043752  4057.01\n",
       "14336  4022.01   20.948302  0.146797   -0.021875  4052.22\n",
       "14337  4026.32   40.810011  0.218164    0.033292  4052.09\n",
       "14338  4045.43   47.263655  0.607370    0.475126  4055.36\n",
       "14339  4043.51  108.259479  0.433078   -0.047214  4049.62"
      ]
     },
     "metadata": {},
     "output_type": "display_data"
    }
   ],
   "source": [
    "df_reduced = df.drop(labels=['timestamp'], axis=1)\n",
    "df_reduced['hl_pct'] = (df_reduced['high'] - df_reduced['low']) / df_reduced['low'] * 100.0\n",
    "df_reduced['pct_change'] = (df_reduced['close'] - df_reduced['open']) / df_reduced['open'] * 100.0\n",
    "df_reduced = df_reduced.drop(labels=['high', 'low', 'open'], axis=1)\n",
    "\n",
    "forecast_out = 60\n",
    "forecast_col = 'close'\n",
    "df_reduced['label'] = df_reduced[forecast_col].shift(-forecast_out)\n",
    "df_reduced_nonan = df_reduced.dropna(inplace=False)\n",
    "display(df_reduced_nonan.head())\n",
    "display(df_reduced_nonan.tail())"
   ]
  },
  {
   "cell_type": "markdown",
   "metadata": {},
   "source": [
    "Now, the next step is to split the training/testing data.  \n",
    "Preprocessing is unnecessary, but can be useful when scaling up."
   ]
  },
  {
   "cell_type": "code",
   "execution_count": 11,
   "metadata": {
    "scrolled": true
   },
   "outputs": [
    {
     "data": {
      "text/plain": [
       "(11472, 4)"
      ]
     },
     "metadata": {},
     "output_type": "display_data"
    },
    {
     "data": {
      "text/plain": [
       "(2868, 4)"
      ]
     },
     "metadata": {},
     "output_type": "display_data"
    }
   ],
   "source": [
    "percent_training = .8\n",
    "X = np.array(df_reduced_nonan.drop(['label'], axis=1))\n",
    "y = np.array(df_reduced_nonan['label'])\n",
    "# X = preprocessing.scale(X)\n",
    "X_train, X_test, y_train, y_test = train_test_split(X, y, test_size=(1 - percent_training))\n",
    "display(X_train.shape)\n",
    "display(X_test.shape)"
   ]
  },
  {
   "cell_type": "markdown",
   "metadata": {},
   "source": [
    "## Train/Test\n",
    "Now, we can train linear regression model and check its accuracy."
   ]
  },
  {
   "cell_type": "code",
   "execution_count": 12,
   "metadata": {},
   "outputs": [
    {
     "data": {
      "text/plain": [
       "0.9809167931203197"
      ]
     },
     "execution_count": 12,
     "metadata": {},
     "output_type": "execute_result"
    }
   ],
   "source": [
    "clf = LinearRegression(n_jobs=-1)\n",
    "clf.fit(X_train, y_train)\n",
    "accuracy = clf.score(X_test, y_test)\n",
    "accuracy"
   ]
  },
  {
   "cell_type": "markdown",
   "metadata": {},
   "source": [
    "We can also try regression using svm..."
   ]
  },
  {
   "cell_type": "code",
   "execution_count": 33,
   "metadata": {},
   "outputs": [
    {
     "data": {
      "text/plain": [
       "0.9808753203569671"
      ]
     },
     "execution_count": 33,
     "metadata": {},
     "output_type": "execute_result"
    }
   ],
   "source": [
    "svm_clf = svm.SVR(kernel='linear', gamma='scale')\n",
    "# svm_clf = svm.SVR(kernel='rbf', gamma='scale')\n",
    "svm_clf.fit(X_train, y_train)\n",
    "accuracy = svm_clf.score(X_test, y_test)\n",
    "accuracy"
   ]
  },
  {
   "cell_type": "markdown",
   "metadata": {},
   "source": [
    "## Predicting Out\n",
    "Now, we can try to predict the last `forecast_out` time ticks.  \n",
    "Let's say `n = forecast_out`.  \n",
    "From data preparation, because we shifted the labels by `n`, the last `n` rows had `NaN` as labels.  \n",
    "Let's now plot our predictions for these last `n` ticks.  \n",
    "We can use from the `len(data)-n-n`th tick to the `len(data)-n`th tick to predict the last `n` labels, which are currently `NaN`, to see the classifier in action?"
   ]
  },
  {
   "cell_type": "code",
   "execution_count": 36,
   "metadata": {},
   "outputs": [
    {
     "data": {
      "text/plain": [
       "<matplotlib.axes._subplots.AxesSubplot at 0x121f9e5f8>"
      ]
     },
     "metadata": {},
     "output_type": "display_data"
    },
    {
     "data": {
      "image/png": "[encoded data removed]",
      "text/plain": [
       "<Figure size 432x288 with 1 Axes>"
      ]
     },
     "metadata": {},
     "output_type": "display_data"
    }
   ],
   "source": [
    "forecast_set = df_reduced[-forecast_out-forecast_out:-forecast_out]\n",
    "predicted_set = clf.predict(forecast_set.drop('label', axis=1))\n",
    "actual_set = df_reduced[-forecast_out:].drop(['volume', 'hl_pct', 'pct_change', 'label'], axis=1)\n",
    "actual_set['index'] = np.arange(len(actual_set))\n",
    "comparison = actual_set.set_index('index', inplace=False)\n",
    "comparison['predicted'] = predicted_set\n",
    "\n",
    "\n",
    "a = comparison.plot()\n",
    "a.set_xlabel('time (minutes)')\n",
    "a.set_ylabel('price (dollars)')\n",
    "display(a)"
   ]
  },
  {
   "cell_type": "markdown",
   "metadata": {},
   "source": [
    "No good!"
   ]
  },
  {
   "cell_type": "code",
   "execution_count": 30,
   "metadata": {},
   "outputs": [
    {
     "data": {
      "text/html": [
       "<div>\n",
       "<style scoped>\n",
       "    .dataframe tbody tr th:only-of-type {\n",
       "        vertical-align: middle;\n",
       "    }\n",
       "\n",
       "    .dataframe tbody tr th {\n",
       "        vertical-align: top;\n",
       "    }\n",
       "\n",
       "    .dataframe thead th {\n",
       "        text-align: right;\n",
       "    }\n",
       "</style>\n",
       "<table border=\"1\" class=\"dataframe\">\n",
       "  <thead>\n",
       "    <tr style=\"text-align: right;\">\n",
       "      <th></th>\n",
       "      <th>close</th>\n",
       "      <th>label</th>\n",
       "      <th>predicted_label</th>\n",
       "      <th>actual</th>\n",
       "      <th>predicted</th>\n",
       "    </tr>\n",
       "  </thead>\n",
       "  <tbody>\n",
       "    <tr>\n",
       "      <th>14280</th>\n",
       "      <td>4000.87</td>\n",
       "      <td>4040.00</td>\n",
       "      <td>4010.304206</td>\n",
       "      <td>long</td>\n",
       "      <td>long</td>\n",
       "    </tr>\n",
       "    <tr>\n",
       "      <th>14281</th>\n",
       "      <td>3990.98</td>\n",
       "      <td>4037.75</td>\n",
       "      <td>3997.846371</td>\n",
       "      <td>long</td>\n",
       "      <td>long</td>\n",
       "    </tr>\n",
       "    <tr>\n",
       "      <th>14282</th>\n",
       "      <td>3992.49</td>\n",
       "      <td>4038.36</td>\n",
       "      <td>3999.214356</td>\n",
       "      <td>long</td>\n",
       "      <td>long</td>\n",
       "    </tr>\n",
       "    <tr>\n",
       "      <th>14283</th>\n",
       "      <td>3998.00</td>\n",
       "      <td>4035.81</td>\n",
       "      <td>4005.635291</td>\n",
       "      <td>long</td>\n",
       "      <td>long</td>\n",
       "    </tr>\n",
       "    <tr>\n",
       "      <th>14284</th>\n",
       "      <td>4007.01</td>\n",
       "      <td>4033.51</td>\n",
       "      <td>4015.853712</td>\n",
       "      <td>long</td>\n",
       "      <td>long</td>\n",
       "    </tr>\n",
       "    <tr>\n",
       "      <th>14285</th>\n",
       "      <td>4001.00</td>\n",
       "      <td>4026.05</td>\n",
       "      <td>4007.705952</td>\n",
       "      <td>long</td>\n",
       "      <td>long</td>\n",
       "    </tr>\n",
       "    <tr>\n",
       "      <th>14286</th>\n",
       "      <td>4000.00</td>\n",
       "      <td>4040.00</td>\n",
       "      <td>4006.452786</td>\n",
       "      <td>long</td>\n",
       "      <td>long</td>\n",
       "    </tr>\n",
       "    <tr>\n",
       "      <th>14287</th>\n",
       "      <td>3999.95</td>\n",
       "      <td>4035.06</td>\n",
       "      <td>4010.356170</td>\n",
       "      <td>long</td>\n",
       "      <td>long</td>\n",
       "    </tr>\n",
       "    <tr>\n",
       "      <th>14288</th>\n",
       "      <td>4010.00</td>\n",
       "      <td>4040.00</td>\n",
       "      <td>4017.656733</td>\n",
       "      <td>long</td>\n",
       "      <td>long</td>\n",
       "    </tr>\n",
       "    <tr>\n",
       "      <th>14289</th>\n",
       "      <td>4001.35</td>\n",
       "      <td>4037.05</td>\n",
       "      <td>4008.181788</td>\n",
       "      <td>long</td>\n",
       "      <td>long</td>\n",
       "    </tr>\n",
       "    <tr>\n",
       "      <th>14290</th>\n",
       "      <td>4009.81</td>\n",
       "      <td>4051.50</td>\n",
       "      <td>4016.199593</td>\n",
       "      <td>long</td>\n",
       "      <td>long</td>\n",
       "    </tr>\n",
       "    <tr>\n",
       "      <th>14291</th>\n",
       "      <td>4016.00</td>\n",
       "      <td>4064.23</td>\n",
       "      <td>4022.503569</td>\n",
       "      <td>long</td>\n",
       "      <td>long</td>\n",
       "    </tr>\n",
       "    <tr>\n",
       "      <th>14292</th>\n",
       "      <td>4010.00</td>\n",
       "      <td>4067.32</td>\n",
       "      <td>4016.320342</td>\n",
       "      <td>long</td>\n",
       "      <td>long</td>\n",
       "    </tr>\n",
       "    <tr>\n",
       "      <th>14293</th>\n",
       "      <td>4009.79</td>\n",
       "      <td>4067.33</td>\n",
       "      <td>4015.935876</td>\n",
       "      <td>long</td>\n",
       "      <td>long</td>\n",
       "    </tr>\n",
       "    <tr>\n",
       "      <th>14294</th>\n",
       "      <td>4006.65</td>\n",
       "      <td>4060.44</td>\n",
       "      <td>4013.090040</td>\n",
       "      <td>long</td>\n",
       "      <td>long</td>\n",
       "    </tr>\n",
       "    <tr>\n",
       "      <th>14295</th>\n",
       "      <td>4011.75</td>\n",
       "      <td>4049.13</td>\n",
       "      <td>4017.639759</td>\n",
       "      <td>long</td>\n",
       "      <td>long</td>\n",
       "    </tr>\n",
       "    <tr>\n",
       "      <th>14296</th>\n",
       "      <td>4016.22</td>\n",
       "      <td>4059.20</td>\n",
       "      <td>4022.725882</td>\n",
       "      <td>long</td>\n",
       "      <td>long</td>\n",
       "    </tr>\n",
       "    <tr>\n",
       "      <th>14297</th>\n",
       "      <td>4020.79</td>\n",
       "      <td>4060.00</td>\n",
       "      <td>4026.425650</td>\n",
       "      <td>long</td>\n",
       "      <td>long</td>\n",
       "    </tr>\n",
       "    <tr>\n",
       "      <th>14298</th>\n",
       "      <td>4034.23</td>\n",
       "      <td>4059.59</td>\n",
       "      <td>4041.721213</td>\n",
       "      <td>long</td>\n",
       "      <td>long</td>\n",
       "    </tr>\n",
       "    <tr>\n",
       "      <th>14299</th>\n",
       "      <td>4030.03</td>\n",
       "      <td>4057.33</td>\n",
       "      <td>4036.029818</td>\n",
       "      <td>long</td>\n",
       "      <td>long</td>\n",
       "    </tr>\n",
       "    <tr>\n",
       "      <th>14300</th>\n",
       "      <td>4031.00</td>\n",
       "      <td>4052.45</td>\n",
       "      <td>4037.308360</td>\n",
       "      <td>long</td>\n",
       "      <td>long</td>\n",
       "    </tr>\n",
       "    <tr>\n",
       "      <th>14301</th>\n",
       "      <td>4033.24</td>\n",
       "      <td>4050.03</td>\n",
       "      <td>4039.078611</td>\n",
       "      <td>long</td>\n",
       "      <td>long</td>\n",
       "    </tr>\n",
       "    <tr>\n",
       "      <th>14302</th>\n",
       "      <td>4029.99</td>\n",
       "      <td>4045.49</td>\n",
       "      <td>4035.525023</td>\n",
       "      <td>long</td>\n",
       "      <td>long</td>\n",
       "    </tr>\n",
       "    <tr>\n",
       "      <th>14303</th>\n",
       "      <td>4029.99</td>\n",
       "      <td>4041.00</td>\n",
       "      <td>4035.017778</td>\n",
       "      <td>long</td>\n",
       "      <td>long</td>\n",
       "    </tr>\n",
       "    <tr>\n",
       "      <th>14304</th>\n",
       "      <td>4029.99</td>\n",
       "      <td>4036.54</td>\n",
       "      <td>4035.022764</td>\n",
       "      <td>long</td>\n",
       "      <td>long</td>\n",
       "    </tr>\n",
       "    <tr>\n",
       "      <th>14305</th>\n",
       "      <td>4031.64</td>\n",
       "      <td>4027.61</td>\n",
       "      <td>4036.888356</td>\n",
       "      <td>short</td>\n",
       "      <td>long</td>\n",
       "    </tr>\n",
       "    <tr>\n",
       "      <th>14306</th>\n",
       "      <td>4031.20</td>\n",
       "      <td>4028.45</td>\n",
       "      <td>4036.349410</td>\n",
       "      <td>short</td>\n",
       "      <td>long</td>\n",
       "    </tr>\n",
       "    <tr>\n",
       "      <th>14307</th>\n",
       "      <td>4023.92</td>\n",
       "      <td>4032.96</td>\n",
       "      <td>4030.019558</td>\n",
       "      <td>long</td>\n",
       "      <td>long</td>\n",
       "    </tr>\n",
       "    <tr>\n",
       "      <th>14308</th>\n",
       "      <td>4011.20</td>\n",
       "      <td>4027.23</td>\n",
       "      <td>4017.989390</td>\n",
       "      <td>long</td>\n",
       "      <td>long</td>\n",
       "    </tr>\n",
       "    <tr>\n",
       "      <th>14309</th>\n",
       "      <td>4015.53</td>\n",
       "      <td>4026.00</td>\n",
       "      <td>4021.607628</td>\n",
       "      <td>long</td>\n",
       "      <td>long</td>\n",
       "    </tr>\n",
       "    <tr>\n",
       "      <th>14310</th>\n",
       "      <td>4017.56</td>\n",
       "      <td>4036.12</td>\n",
       "      <td>4024.237341</td>\n",
       "      <td>long</td>\n",
       "      <td>long</td>\n",
       "    </tr>\n",
       "    <tr>\n",
       "      <th>14311</th>\n",
       "      <td>4038.99</td>\n",
       "      <td>4034.93</td>\n",
       "      <td>4048.358796</td>\n",
       "      <td>short</td>\n",
       "      <td>long</td>\n",
       "    </tr>\n",
       "    <tr>\n",
       "      <th>14312</th>\n",
       "      <td>4047.01</td>\n",
       "      <td>4037.38</td>\n",
       "      <td>4053.909954</td>\n",
       "      <td>short</td>\n",
       "      <td>long</td>\n",
       "    </tr>\n",
       "    <tr>\n",
       "      <th>14313</th>\n",
       "      <td>4051.00</td>\n",
       "      <td>4034.00</td>\n",
       "      <td>4057.488037</td>\n",
       "      <td>short</td>\n",
       "      <td>long</td>\n",
       "    </tr>\n",
       "    <tr>\n",
       "      <th>14314</th>\n",
       "      <td>4045.98</td>\n",
       "      <td>4022.11</td>\n",
       "      <td>4053.011775</td>\n",
       "      <td>short</td>\n",
       "      <td>long</td>\n",
       "    </tr>\n",
       "    <tr>\n",
       "      <th>14315</th>\n",
       "      <td>4055.26</td>\n",
       "      <td>4024.37</td>\n",
       "      <td>4062.769075</td>\n",
       "      <td>short</td>\n",
       "      <td>long</td>\n",
       "    </tr>\n",
       "    <tr>\n",
       "      <th>14316</th>\n",
       "      <td>4058.18</td>\n",
       "      <td>4019.57</td>\n",
       "      <td>4065.368166</td>\n",
       "      <td>short</td>\n",
       "      <td>long</td>\n",
       "    </tr>\n",
       "    <tr>\n",
       "      <th>14317</th>\n",
       "      <td>4045.00</td>\n",
       "      <td>4023.84</td>\n",
       "      <td>4052.290260</td>\n",
       "      <td>short</td>\n",
       "      <td>long</td>\n",
       "    </tr>\n",
       "    <tr>\n",
       "      <th>14318</th>\n",
       "      <td>4039.53</td>\n",
       "      <td>4031.85</td>\n",
       "      <td>4045.456359</td>\n",
       "      <td>short</td>\n",
       "      <td>long</td>\n",
       "    </tr>\n",
       "    <tr>\n",
       "      <th>14319</th>\n",
       "      <td>4032.73</td>\n",
       "      <td>4030.58</td>\n",
       "      <td>4039.823460</td>\n",
       "      <td>short</td>\n",
       "      <td>long</td>\n",
       "    </tr>\n",
       "    <tr>\n",
       "      <th>14320</th>\n",
       "      <td>4038.69</td>\n",
       "      <td>4027.74</td>\n",
       "      <td>4045.799775</td>\n",
       "      <td>short</td>\n",
       "      <td>long</td>\n",
       "    </tr>\n",
       "    <tr>\n",
       "      <th>14321</th>\n",
       "      <td>4036.41</td>\n",
       "      <td>4033.32</td>\n",
       "      <td>4043.340119</td>\n",
       "      <td>short</td>\n",
       "      <td>long</td>\n",
       "    </tr>\n",
       "    <tr>\n",
       "      <th>14322</th>\n",
       "      <td>4030.96</td>\n",
       "      <td>4041.28</td>\n",
       "      <td>4036.983491</td>\n",
       "      <td>long</td>\n",
       "      <td>long</td>\n",
       "    </tr>\n",
       "    <tr>\n",
       "      <th>14323</th>\n",
       "      <td>4017.92</td>\n",
       "      <td>4047.02</td>\n",
       "      <td>4024.905240</td>\n",
       "      <td>long</td>\n",
       "      <td>long</td>\n",
       "    </tr>\n",
       "    <tr>\n",
       "      <th>14324</th>\n",
       "      <td>4010.00</td>\n",
       "      <td>4044.62</td>\n",
       "      <td>4017.149543</td>\n",
       "      <td>long</td>\n",
       "      <td>long</td>\n",
       "    </tr>\n",
       "    <tr>\n",
       "      <th>14325</th>\n",
       "      <td>4003.08</td>\n",
       "      <td>4040.01</td>\n",
       "      <td>4009.390034</td>\n",
       "      <td>long</td>\n",
       "      <td>long</td>\n",
       "    </tr>\n",
       "    <tr>\n",
       "      <th>14326</th>\n",
       "      <td>4011.24</td>\n",
       "      <td>4040.56</td>\n",
       "      <td>4018.614558</td>\n",
       "      <td>long</td>\n",
       "      <td>long</td>\n",
       "    </tr>\n",
       "    <tr>\n",
       "      <th>14327</th>\n",
       "      <td>4025.20</td>\n",
       "      <td>4035.00</td>\n",
       "      <td>4033.479591</td>\n",
       "      <td>long</td>\n",
       "      <td>long</td>\n",
       "    </tr>\n",
       "    <tr>\n",
       "      <th>14328</th>\n",
       "      <td>4026.39</td>\n",
       "      <td>4039.25</td>\n",
       "      <td>4032.865936</td>\n",
       "      <td>long</td>\n",
       "      <td>long</td>\n",
       "    </tr>\n",
       "    <tr>\n",
       "      <th>14329</th>\n",
       "      <td>4016.50</td>\n",
       "      <td>4039.16</td>\n",
       "      <td>4023.123253</td>\n",
       "      <td>long</td>\n",
       "      <td>long</td>\n",
       "    </tr>\n",
       "    <tr>\n",
       "      <th>14330</th>\n",
       "      <td>4016.31</td>\n",
       "      <td>4044.12</td>\n",
       "      <td>4023.605276</td>\n",
       "      <td>long</td>\n",
       "      <td>long</td>\n",
       "    </tr>\n",
       "    <tr>\n",
       "      <th>14331</th>\n",
       "      <td>4025.00</td>\n",
       "      <td>4044.23</td>\n",
       "      <td>4031.717056</td>\n",
       "      <td>long</td>\n",
       "      <td>long</td>\n",
       "    </tr>\n",
       "    <tr>\n",
       "      <th>14332</th>\n",
       "      <td>4028.90</td>\n",
       "      <td>4054.11</td>\n",
       "      <td>4035.112599</td>\n",
       "      <td>long</td>\n",
       "      <td>long</td>\n",
       "    </tr>\n",
       "    <tr>\n",
       "      <th>14333</th>\n",
       "      <td>4024.25</td>\n",
       "      <td>4055.27</td>\n",
       "      <td>4030.229712</td>\n",
       "      <td>long</td>\n",
       "      <td>long</td>\n",
       "    </tr>\n",
       "    <tr>\n",
       "      <th>14334</th>\n",
       "      <td>4023.04</td>\n",
       "      <td>4056.04</td>\n",
       "      <td>4029.186265</td>\n",
       "      <td>long</td>\n",
       "      <td>long</td>\n",
       "    </tr>\n",
       "    <tr>\n",
       "      <th>14335</th>\n",
       "      <td>4024.39</td>\n",
       "      <td>4057.01</td>\n",
       "      <td>4030.235973</td>\n",
       "      <td>long</td>\n",
       "      <td>long</td>\n",
       "    </tr>\n",
       "    <tr>\n",
       "      <th>14336</th>\n",
       "      <td>4022.01</td>\n",
       "      <td>4052.22</td>\n",
       "      <td>4027.864175</td>\n",
       "      <td>long</td>\n",
       "      <td>long</td>\n",
       "    </tr>\n",
       "    <tr>\n",
       "      <th>14337</th>\n",
       "      <td>4026.32</td>\n",
       "      <td>4052.09</td>\n",
       "      <td>4032.728431</td>\n",
       "      <td>long</td>\n",
       "      <td>long</td>\n",
       "    </tr>\n",
       "    <tr>\n",
       "      <th>14338</th>\n",
       "      <td>4045.43</td>\n",
       "      <td>4055.36</td>\n",
       "      <td>4055.289359</td>\n",
       "      <td>long</td>\n",
       "      <td>long</td>\n",
       "    </tr>\n",
       "    <tr>\n",
       "      <th>14339</th>\n",
       "      <td>4043.51</td>\n",
       "      <td>4049.62</td>\n",
       "      <td>4051.315885</td>\n",
       "      <td>long</td>\n",
       "      <td>long</td>\n",
       "    </tr>\n",
       "  </tbody>\n",
       "</table>\n",
       "</div>"
      ],
      "text/plain": [
       "         close    label  predicted_label actual predicted\n",
       "14280  4000.87  4040.00      4010.304206   long      long\n",
       "14281  3990.98  4037.75      3997.846371   long      long\n",
       "14282  3992.49  4038.36      3999.214356   long      long\n",
       "14283  3998.00  4035.81      4005.635291   long      long\n",
       "14284  4007.01  4033.51      4015.853712   long      long\n",
       "14285  4001.00  4026.05      4007.705952   long      long\n",
       "14286  4000.00  4040.00      4006.452786   long      long\n",
       "14287  3999.95  4035.06      4010.356170   long      long\n",
       "14288  4010.00  4040.00      4017.656733   long      long\n",
       "14289  4001.35  4037.05      4008.181788   long      long\n",
       "14290  4009.81  4051.50      4016.199593   long      long\n",
       "14291  4016.00  4064.23      4022.503569   long      long\n",
       "14292  4010.00  4067.32      4016.320342   long      long\n",
       "14293  4009.79  4067.33      4015.935876   long      long\n",
       "14294  4006.65  4060.44      4013.090040   long      long\n",
       "14295  4011.75  4049.13      4017.639759   long      long\n",
       "14296  4016.22  4059.20      4022.725882   long      long\n",
       "14297  4020.79  4060.00      4026.425650   long      long\n",
       "14298  4034.23  4059.59      4041.721213   long      long\n",
       "14299  4030.03  4057.33      4036.029818   long      long\n",
       "14300  4031.00  4052.45      4037.308360   long      long\n",
       "14301  4033.24  4050.03      4039.078611   long      long\n",
       "14302  4029.99  4045.49      4035.525023   long      long\n",
       "14303  4029.99  4041.00      4035.017778   long      long\n",
       "14304  4029.99  4036.54      4035.022764   long      long\n",
       "14305  4031.64  4027.61      4036.888356  short      long\n",
       "14306  4031.20  4028.45      4036.349410  short      long\n",
       "14307  4023.92  4032.96      4030.019558   long      long\n",
       "14308  4011.20  4027.23      4017.989390   long      long\n",
       "14309  4015.53  4026.00      4021.607628   long      long\n",
       "14310  4017.56  4036.12      4024.237341   long      long\n",
       "14311  4038.99  4034.93      4048.358796  short      long\n",
       "14312  4047.01  4037.38      4053.909954  short      long\n",
       "14313  4051.00  4034.00      4057.488037  short      long\n",
       "14314  4045.98  4022.11      4053.011775  short      long\n",
       "14315  4055.26  4024.37      4062.769075  short      long\n",
       "14316  4058.18  4019.57      4065.368166  short      long\n",
       "14317  4045.00  4023.84      4052.290260  short      long\n",
       "14318  4039.53  4031.85      4045.456359  short      long\n",
       "14319  4032.73  4030.58      4039.823460  short      long\n",
       "14320  4038.69  4027.74      4045.799775  short      long\n",
       "14321  4036.41  4033.32      4043.340119  short      long\n",
       "14322  4030.96  4041.28      4036.983491   long      long\n",
       "14323  4017.92  4047.02      4024.905240   long      long\n",
       "14324  4010.00  4044.62      4017.149543   long      long\n",
       "14325  4003.08  4040.01      4009.390034   long      long\n",
       "14326  4011.24  4040.56      4018.614558   long      long\n",
       "14327  4025.20  4035.00      4033.479591   long      long\n",
       "14328  4026.39  4039.25      4032.865936   long      long\n",
       "14329  4016.50  4039.16      4023.123253   long      long\n",
       "14330  4016.31  4044.12      4023.605276   long      long\n",
       "14331  4025.00  4044.23      4031.717056   long      long\n",
       "14332  4028.90  4054.11      4035.112599   long      long\n",
       "14333  4024.25  4055.27      4030.229712   long      long\n",
       "14334  4023.04  4056.04      4029.186265   long      long\n",
       "14335  4024.39  4057.01      4030.235973   long      long\n",
       "14336  4022.01  4052.22      4027.864175   long      long\n",
       "14337  4026.32  4052.09      4032.728431   long      long\n",
       "14338  4045.43  4055.36      4055.289359   long      long\n",
       "14339  4043.51  4049.62      4051.315885   long      long"
      ]
     },
     "metadata": {},
     "output_type": "display_data"
    },
    {
     "data": {
      "text/plain": [
       "array(['long', 'long', 'long', 'long', 'long', 'long', 'long', 'long',\n",
       "       'long', 'long', 'long', 'long', 'long', 'long', 'long', 'long',\n",
       "       'long', 'long', 'long', 'long', 'long', 'long', 'long', 'long',\n",
       "       'long', 'long', 'long', 'long', 'long', 'long', 'long', 'long',\n",
       "       'long', 'long', 'long', 'long', 'long', 'long', 'long', 'long',\n",
       "       'long', 'long', 'long', 'long', 'long', 'long', 'long', 'long',\n",
       "       'long', 'long', 'long', 'long', 'long', 'long', 'long', 'long',\n",
       "       'long', 'long', 'long', 'long'], dtype=object)"
      ]
     },
     "metadata": {},
     "output_type": "display_data"
    }
   ],
   "source": [
    "comparison = forecast_set.drop(['volume', 'hl_pct', 'pct_change'], axis=1)\n",
    "comparison['predicted_label'] = predicted_set\n",
    "comparison['actual'] = comparison.apply(lambda row : 'long' if row['close'] < row['label'] else 'short', axis=1)\n",
    "comparison['predicted'] = comparison.apply(lambda row : 'long' if row['close'] < row['predicted_label'] else 'short', axis=1)\n",
    "display(comparison)\n",
    "display(comparison['predicted'].values)"
   ]
  },
  {
   "cell_type": "markdown",
   "metadata": {},
   "source": [
    "If the closing price in the future is higher, this should indicate a \"long\" position, and if it is lower, this should indicate a \"short\" position.  \n",
    "I've labeled what the position should be according to the actual future price under \"actual\" and what the position should be according to the model's prediction under \"predicted\".  \n",
    "The LinearRegression model is predicting long for every time tick!"
   ]
  },
  {
   "cell_type": "code",
   "execution_count": 31,
   "metadata": {},
   "outputs": [
    {
     "data": {
      "text/plain": [
       "<matplotlib.axes._subplots.AxesSubplot at 0x12ec58da0>"
      ]
     },
     "execution_count": 31,
     "metadata": {},
     "output_type": "execute_result"
    },
    {
     "data": {
      "image/png": "[encoded data removed]",
      "text/plain": [
       "<Figure size 432x288 with 1 Axes>"
      ]
     },
     "metadata": {},
     "output_type": "display_data"
    }
   ],
   "source": [
    "predicted_series = pd.Series(predicted_set, index=actual_set.index)\n",
    "df_reduced['close'].drop(np.arange(len(df_reduced))[:-120]).plot()\n",
    "predicted_series.plot()"
   ]
  },
  {
   "cell_type": "code",
   "execution_count": 32,
   "metadata": {},
   "outputs": [
    {
     "data": {
      "text/plain": [
       "<matplotlib.axes._subplots.AxesSubplot at 0x12ef15358>"
      ]
     },
     "execution_count": 32,
     "metadata": {},
     "output_type": "execute_result"
    },
    {
     "data": {
      "image/png": "[encoded data removed]",
      "text/plain": [
       "<Figure size 432x288 with 1 Axes>"
      ]
     },
     "metadata": {},
     "output_type": "display_data"
    }
   ],
   "source": [
    "shifted_predicted_series = predicted_series.copy()\n",
    "shifted_predicted_series.index = predicted_series.index - 60\n",
    "shifted_predicted_series.plot()\n",
    "df_reduced['close'][-120:-60].plot()"
   ]
  },
  {
   "cell_type": "markdown",
   "metadata": {},
   "source": [
    "By shifting back our predictions exactly 60 timeticks, we see that the predictions at `y_t` tightly match the price at `y_t-60`.  \n",
    "This is the exact flaw pointed out in [this Hacker Noon article](https://hackernoon.com/dont-be-fooled-deceptive-cryptocurrency-price-predictions-using-deep-learning-bf27e4837151) - the model is based on historical prices alone, likely causing its ineffectiveness. Also, the features of our data set are \"close\", \"volume\", \"hl_pct\", and \"pct_change\". Other than \"close\" which is closing price, none seem intuitively predictive of a future closing price. I would guess that a more effective model would incorporate more features (like market sentiment), and would be more complicated than simple linear regression. "
   ]
  },
  {
   "cell_type": "markdown",
   "metadata": {},
   "source": [
    "# Moving Forward...\n",
    "12/21/18  \n",
    "Let's try something different, and with more data?"
   ]
  },
  {
   "cell_type": "markdown",
   "metadata": {},
   "source": [
    "Trying to extracting more data:"
   ]
  },
  {
   "cell_type": "markdown",
   "metadata": {},
   "source": [
    "The following cell retrieves [coinmarketcap](https://coinmarketcap.com/currencies/bitcoin/historical-data/) data.    \n",
    "Data is on a day interval, from bitcoin's inception until December 2018."
   ]
  },
  {
   "cell_type": "code",
   "execution_count": 75,
   "metadata": {
    "collapsed": true
   },
   "outputs": [
    {
     "data": {
      "text/plain": [
       "<matplotlib.axes._subplots.AxesSubplot at 0x12b01a320>"
      ]
     },
     "execution_count": 75,
     "metadata": {},
     "output_type": "execute_result"
    },
    {
     "data": {
      "image/png": "[encoded data removed]",
      "text/plain": [
       "<Figure size 432x288 with 1 Axes>"
      ]
     },
     "metadata": {},
     "output_type": "display_data"
    }
   ],
   "source": [
    "df = pd.read_csv(current_path + '/coinmarketcap.csv')\n",
    "df.index = list(df.index)[::-1]\n",
    "df['Close'].apply(lambda x : float(x.replace(',',''))).plot()"
   ]
  },
  {
   "cell_type": "markdown",
   "metadata": {},
   "source": [
    "The following cells retrieves more 1token data, still restricted by the limit on their API."
   ]
  },
  {
   "cell_type": "code",
   "execution_count": 11,
   "metadata": {},
   "outputs": [
    {
     "name": "stdout",
     "output_type": "stream",
     "text": [
      "Getting data between 2018-09-21, and 2018-12-30.\n",
      "[datetime.date(2018, 9, 21) datetime.date(2018, 10, 1)\n",
      " datetime.date(2018, 10, 11) datetime.date(2018, 10, 21)\n",
      " datetime.date(2018, 10, 31) datetime.date(2018, 11, 10)\n",
      " datetime.date(2018, 11, 20) datetime.date(2018, 11, 30)\n",
      " datetime.date(2018, 12, 10) datetime.date(2018, 12, 20)\n",
      " datetime.date(2018, 12, 30)]\n",
      "Recieved response #0 : {'since': '2018-09-21', 'until': '2018-10-01', 'contract': 'binance/btc.usdt', 'duration': '1m', 'format': 'csv'}\n",
      "Recieved response #1 : {'since': '2018-10-01', 'until': '2018-10-11', 'contract': 'binance/btc.usdt', 'duration': '1m', 'format': 'csv'}\n",
      "Recieved response #2 : {'since': '2018-10-11', 'until': '2018-10-21', 'contract': 'binance/btc.usdt', 'duration': '1m', 'format': 'csv'}\n",
      "Recieved response #3 : {'since': '2018-10-21', 'until': '2018-10-31', 'contract': 'binance/btc.usdt', 'duration': '1m', 'format': 'csv'}\n",
      "Recieved response #4 : {'since': '2018-10-31', 'until': '2018-11-10', 'contract': 'binance/btc.usdt', 'duration': '1m', 'format': 'csv'}\n",
      "Recieved response #5 : {'since': '2018-11-10', 'until': '2018-11-20', 'contract': 'binance/btc.usdt', 'duration': '1m', 'format': 'csv'}\n",
      "Recieved response #6 : {'since': '2018-11-20', 'until': '2018-11-30', 'contract': 'binance/btc.usdt', 'duration': '1m', 'format': 'csv'}\n",
      "Recieved response #7 : {'since': '2018-11-30', 'until': '2018-12-10', 'contract': 'binance/btc.usdt', 'duration': '1m', 'format': 'csv'}\n",
      "Recieved response #8 : {'since': '2018-12-10', 'until': '2018-12-20', 'contract': 'binance/btc.usdt', 'duration': '1m', 'format': 'csv'}\n",
      "Recieved response #9 : {'since': '2018-12-20', 'until': '2018-12-30', 'contract': 'binance/btc.usdt', 'duration': '1m', 'format': 'csv'}\n"
     ]
    },
    {
     "data": {
      "text/html": [
       "<div>\n",
       "<style scoped>\n",
       "    .dataframe tbody tr th:only-of-type {\n",
       "        vertical-align: middle;\n",
       "    }\n",
       "\n",
       "    .dataframe tbody tr th {\n",
       "        vertical-align: top;\n",
       "    }\n",
       "\n",
       "    .dataframe thead th {\n",
       "        text-align: right;\n",
       "    }\n",
       "</style>\n",
       "<table border=\"1\" class=\"dataframe\">\n",
       "  <thead>\n",
       "    <tr style=\"text-align: right;\">\n",
       "      <th></th>\n",
       "      <th>close</th>\n",
       "      <th>high</th>\n",
       "      <th>low</th>\n",
       "      <th>open</th>\n",
       "      <th>volume</th>\n",
       "    </tr>\n",
       "    <tr>\n",
       "      <th>timestamp</th>\n",
       "      <th></th>\n",
       "      <th></th>\n",
       "      <th></th>\n",
       "      <th></th>\n",
       "      <th></th>\n",
       "    </tr>\n",
       "  </thead>\n",
       "  <tbody>\n",
       "    <tr>\n",
       "      <th>1546127700</th>\n",
       "      <td>3703.00</td>\n",
       "      <td>3707.18</td>\n",
       "      <td>3692.88</td>\n",
       "      <td>3694.99</td>\n",
       "      <td>58.039220</td>\n",
       "    </tr>\n",
       "    <tr>\n",
       "      <th>1546127760</th>\n",
       "      <td>3703.77</td>\n",
       "      <td>3710.00</td>\n",
       "      <td>3700.95</td>\n",
       "      <td>3703.61</td>\n",
       "      <td>61.523442</td>\n",
       "    </tr>\n",
       "    <tr>\n",
       "      <th>1546127820</th>\n",
       "      <td>3694.50</td>\n",
       "      <td>3704.65</td>\n",
       "      <td>3690.00</td>\n",
       "      <td>3704.65</td>\n",
       "      <td>87.155646</td>\n",
       "    </tr>\n",
       "    <tr>\n",
       "      <th>1546127880</th>\n",
       "      <td>3689.54</td>\n",
       "      <td>3696.96</td>\n",
       "      <td>3683.88</td>\n",
       "      <td>3694.50</td>\n",
       "      <td>138.169163</td>\n",
       "    </tr>\n",
       "    <tr>\n",
       "      <th>1546127940</th>\n",
       "      <td>3695.32</td>\n",
       "      <td>3696.82</td>\n",
       "      <td>3680.00</td>\n",
       "      <td>3689.51</td>\n",
       "      <td>176.499026</td>\n",
       "    </tr>\n",
       "  </tbody>\n",
       "</table>\n",
       "</div>"
      ],
      "text/plain": [
       "              close     high      low     open      volume\n",
       "timestamp                                                 \n",
       "1546127700  3703.00  3707.18  3692.88  3694.99   58.039220\n",
       "1546127760  3703.77  3710.00  3700.95  3703.61   61.523442\n",
       "1546127820  3694.50  3704.65  3690.00  3704.65   87.155646\n",
       "1546127880  3689.54  3696.96  3683.88  3694.50  138.169163\n",
       "1546127940  3695.32  3696.82  3680.00  3689.51  176.499026"
      ]
     },
     "execution_count": 11,
     "metadata": {},
     "output_type": "execute_result"
    }
   ],
   "source": [
    "def daterange(start_date, end_date):\n",
    "    for n in range(int ((end_date - start_date).days))[::10]:\n",
    "        yield start_date + timedelta(n)\n",
    "        \n",
    "days_ago = 100\n",
    "today = datetime.today()\n",
    "start_date = (today - timedelta(days_ago)).date()\n",
    "end_date = today.date()\n",
    "print(\"Getting data between %s, and %s.\" % (start_date, end_date))\n",
    "dates = list(daterange(start_date, end_date))\n",
    "dates.append(end_date)\n",
    "print(np.array(dates))\n",
    "\n",
    "# Average call for 10 days, 1 min tick is 72 quota expense... quota limit around 700?\n",
    "\n",
    "# Must use fake user-agent for iterating requests\n",
    "headers = {\n",
    "    'user-agent': ('Mozilla/5.0 (Macintosh; Intel Mac OS X 10_10_5)'\n",
    "                          'AppleWebKit/537.36 (KHTML, like Gecko)'\n",
    "                          'Chrome/45.0.2454.101 Safari/537.36'),\n",
    "    'referer': 'http://stats.nba.com/scores/',\n",
    "    'ot-key' : ot_key\n",
    "}\n",
    "\n",
    "# Use template parameters object\n",
    "params = {\n",
    "    'since' : 'will be replaced with actual date',\n",
    "    'until' : 'will be replaced with actual date',\n",
    "    'contract' : 'binance/btc.usdt',\n",
    "    'duration' : '1m',\n",
    "    'format' : 'csv'\n",
    "}\n",
    "\n",
    "# Accumulate a large DataFrame for all requests \n",
    "df = pd.DataFrame()\n",
    "# Itererate through all date intervals\n",
    "for idx in range(len(dates) - 1):\n",
    "    params['since'] = str(dates[idx])\n",
    "    params['until'] = str(dates[idx + 1])\n",
    "    r = requests.get(tokenapi + '/candles' , headers=headers, params=params, stream = True)\n",
    "    print(\"Recieved response #\" + str(idx) + \": \" + params['since'] + ' to ' + params['until'])\n",
    "    single_df = pd.read_csv(io.StringIO(r.text)).set_index('timestamp')\n",
    "    df = pd.concat([df, single_df])\n",
    "    if int(r.headers['ot-quota-remaining']) < 72:\n",
    "        print(\"Reached ot-quota limit!\")\n",
    "        break\n",
    "    \n",
    "df.sort_index()\n",
    "df.tail()"
   ]
  },
  {
   "cell_type": "code",
   "execution_count": 15,
   "metadata": {},
   "outputs": [],
   "source": [
    "df.to_csv(current_path + '/btc-historical-data.csv')"
   ]
  },
  {
   "cell_type": "code",
   "execution_count": 17,
   "metadata": {},
   "outputs": [
    {
     "data": {
      "text/plain": [
       "<matplotlib.axes._subplots.AxesSubplot at 0x126b287f0>"
      ]
     },
     "execution_count": 17,
     "metadata": {},
     "output_type": "execute_result"
    },
    {
     "data": {
      "image/png": "[encoded data removed]",
      "text/plain": [
       "<Figure size 432x288 with 1 Axes>"
      ]
     },
     "metadata": {},
     "output_type": "display_data"
    }
   ],
   "source": [
    "df = pd.read_csv(current_path + '/btc-historical-data.csv')\n",
    "df['close'].plot()"
   ]
  },
  {
   "cell_type": "code",
   "execution_count": 22,
   "metadata": {},
   "outputs": [
    {
     "data": {
      "text/html": [
       "<div>\n",
       "<style scoped>\n",
       "    .dataframe tbody tr th:only-of-type {\n",
       "        vertical-align: middle;\n",
       "    }\n",
       "\n",
       "    .dataframe tbody tr th {\n",
       "        vertical-align: top;\n",
       "    }\n",
       "\n",
       "    .dataframe thead th {\n",
       "        text-align: right;\n",
       "    }\n",
       "</style>\n",
       "<table border=\"1\" class=\"dataframe\">\n",
       "  <thead>\n",
       "    <tr style=\"text-align: right;\">\n",
       "      <th></th>\n",
       "      <th>close</th>\n",
       "      <th>volume</th>\n",
       "      <th>hl_pct</th>\n",
       "      <th>pct_change</th>\n",
       "      <th>label</th>\n",
       "    </tr>\n",
       "  </thead>\n",
       "  <tbody>\n",
       "    <tr>\n",
       "      <th>0</th>\n",
       "      <td>6497.99</td>\n",
       "      <td>21.059118</td>\n",
       "      <td>0.123248</td>\n",
       "      <td>0.092267</td>\n",
       "      <td>6512.73</td>\n",
       "    </tr>\n",
       "    <tr>\n",
       "      <th>1</th>\n",
       "      <td>6515.97</td>\n",
       "      <td>79.013693</td>\n",
       "      <td>0.314271</td>\n",
       "      <td>0.283028</td>\n",
       "      <td>6511.90</td>\n",
       "    </tr>\n",
       "    <tr>\n",
       "      <th>2</th>\n",
       "      <td>6512.93</td>\n",
       "      <td>9.950203</td>\n",
       "      <td>0.122773</td>\n",
       "      <td>0.015817</td>\n",
       "      <td>6511.02</td>\n",
       "    </tr>\n",
       "    <tr>\n",
       "      <th>3</th>\n",
       "      <td>6521.72</td>\n",
       "      <td>59.544785</td>\n",
       "      <td>0.215755</td>\n",
       "      <td>0.149109</td>\n",
       "      <td>6503.50</td>\n",
       "    </tr>\n",
       "    <tr>\n",
       "      <th>4</th>\n",
       "      <td>6514.73</td>\n",
       "      <td>66.991024</td>\n",
       "      <td>0.198785</td>\n",
       "      <td>-0.107640</td>\n",
       "      <td>6501.50</td>\n",
       "    </tr>\n",
       "  </tbody>\n",
       "</table>\n",
       "</div>"
      ],
      "text/plain": [
       "     close     volume    hl_pct  pct_change    label\n",
       "0  6497.99  21.059118  0.123248    0.092267  6512.73\n",
       "1  6515.97  79.013693  0.314271    0.283028  6511.90\n",
       "2  6512.93   9.950203  0.122773    0.015817  6511.02\n",
       "3  6521.72  59.544785  0.215755    0.149109  6503.50\n",
       "4  6514.73  66.991024  0.198785   -0.107640  6501.50"
      ]
     },
     "metadata": {},
     "output_type": "display_data"
    },
    {
     "data": {
      "text/html": [
       "<div>\n",
       "<style scoped>\n",
       "    .dataframe tbody tr th:only-of-type {\n",
       "        vertical-align: middle;\n",
       "    }\n",
       "\n",
       "    .dataframe tbody tr th {\n",
       "        vertical-align: top;\n",
       "    }\n",
       "\n",
       "    .dataframe thead th {\n",
       "        text-align: right;\n",
       "    }\n",
       "</style>\n",
       "<table border=\"1\" class=\"dataframe\">\n",
       "  <thead>\n",
       "    <tr style=\"text-align: right;\">\n",
       "      <th></th>\n",
       "      <th>close</th>\n",
       "      <th>volume</th>\n",
       "      <th>hl_pct</th>\n",
       "      <th>pct_change</th>\n",
       "      <th>label</th>\n",
       "    </tr>\n",
       "  </thead>\n",
       "  <tbody>\n",
       "    <tr>\n",
       "      <th>143305</th>\n",
       "      <td>3849.31</td>\n",
       "      <td>15.738544</td>\n",
       "      <td>0.142008</td>\n",
       "      <td>0.115999</td>\n",
       "      <td>3703.00</td>\n",
       "    </tr>\n",
       "    <tr>\n",
       "      <th>143306</th>\n",
       "      <td>3847.16</td>\n",
       "      <td>18.986870</td>\n",
       "      <td>0.132630</td>\n",
       "      <td>-0.045208</td>\n",
       "      <td>3703.77</td>\n",
       "    </tr>\n",
       "    <tr>\n",
       "      <th>143307</th>\n",
       "      <td>3848.78</td>\n",
       "      <td>16.884088</td>\n",
       "      <td>0.198942</td>\n",
       "      <td>0.089459</td>\n",
       "      <td>3694.50</td>\n",
       "    </tr>\n",
       "    <tr>\n",
       "      <th>143308</th>\n",
       "      <td>3849.31</td>\n",
       "      <td>12.243546</td>\n",
       "      <td>0.145553</td>\n",
       "      <td>-0.015585</td>\n",
       "      <td>3689.54</td>\n",
       "    </tr>\n",
       "    <tr>\n",
       "      <th>143309</th>\n",
       "      <td>3846.82</td>\n",
       "      <td>23.168863</td>\n",
       "      <td>0.085283</td>\n",
       "      <td>-0.054041</td>\n",
       "      <td>3695.32</td>\n",
       "    </tr>\n",
       "  </tbody>\n",
       "</table>\n",
       "</div>"
      ],
      "text/plain": [
       "          close     volume    hl_pct  pct_change    label\n",
       "143305  3849.31  15.738544  0.142008    0.115999  3703.00\n",
       "143306  3847.16  18.986870  0.132630   -0.045208  3703.77\n",
       "143307  3848.78  16.884088  0.198942    0.089459  3694.50\n",
       "143308  3849.31  12.243546  0.145553   -0.015585  3689.54\n",
       "143309  3846.82  23.168863  0.085283   -0.054041  3695.32"
      ]
     },
     "metadata": {},
     "output_type": "display_data"
    }
   ],
   "source": [
    "df_reduced = df.drop(labels=['timestamp'], axis=1)\n",
    "df_reduced['hl_pct'] = (df_reduced['high'] - df_reduced['low']) / df_reduced['low'] * 100.0\n",
    "df_reduced['pct_change'] = (df_reduced['close'] - df_reduced['open']) / df_reduced['open'] * 100.0\n",
    "df_reduced = df_reduced.drop(labels=['high', 'low', 'open'], axis=1)\n",
    "\n",
    "forecast_out = 60\n",
    "forecast_col = 'close'\n",
    "df_reduced['label'] = df_reduced[forecast_col].shift(-forecast_out)\n",
    "df_reduced_nonan = df_reduced.dropna(inplace=False)\n",
    "display(df_reduced_nonan.head())\n",
    "display(df_reduced_nonan.tail())"
   ]
  },
  {
   "cell_type": "code",
   "execution_count": 23,
   "metadata": {},
   "outputs": [
    {
     "data": {
      "text/plain": [
       "<matplotlib.axes._subplots.AxesSubplot at 0x109539c88>"
      ]
     },
     "execution_count": 23,
     "metadata": {},
     "output_type": "execute_result"
    },
    {
     "data": {
      "image/png": "[encoded data removed]",
      "text/plain": [
       "<Figure size 864x648 with 2 Axes>"
      ]
     },
     "metadata": {},
     "output_type": "display_data"
    }
   ],
   "source": [
    "corrmat = df_reduced_nonan.corr()\n",
    "f, ax = plt.subplots(figsize=(12, 9))\n",
    "sns.heatmap(corrmat, vmax=.8, square=True)"
   ]
  },
  {
   "cell_type": "markdown",
   "metadata": {},
   "source": [
    "By the above correlation heatmap, it's clear that the `volume`, `hl_pct` features are not very correlated with the pricing labels. Future models probably should not contain these feature, and maybe not even `pct_change`. It only leaves `close`, correlating strongly with `label`, which validates my previous assumptions that the model's predictions were highly, if not *completely* dependant on the current closing price. Lesson learned - understand the data a lot better before trying to model."
   ]
  }
 ],
 "metadata": {
  "kernelspec": {
   "display_name": "Python 3",
   "language": "python",
   "name": "python3"
  },
  "language_info": {
   "codemirror_mode": {
    "name": "ipython",
    "version": 3
   },
   "file_extension": ".py",
   "mimetype": "text/x-python",
   "name": "python",
   "nbconvert_exporter": "python",
   "pygments_lexer": "ipython3",
   "version": "3.7.0"
  }
 },
 "nbformat": 4,
 "nbformat_minor": 2
}
